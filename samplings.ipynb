{
 "cells": [
  {
   "cell_type": "code",
   "execution_count": 1,
   "metadata": {},
   "outputs": [],
   "source": [
    "import seaborn as sns\n",
    "import matplotlib.pyplot as plt\n",
    "import numpy as np\n",
    "import pandas as pd\n",
    "%matplotlib inline"
   ]
  },
  {
   "cell_type": "code",
   "execution_count": 3,
   "metadata": {},
   "outputs": [],
   "source": [
    "# Utility function\n",
    "import ast\n",
    "\n",
    "# Need to convert the lists inside genre and movie back to lists because they are stored as strings\n",
    "def convert_to_list(s):\n",
    "    \n",
    "    # If the value is a nan, just return a nan\n",
    "    if pd.isna(s):\n",
    "        return np.nan\n",
    "\n",
    "    # Try to parse the value\n",
    "    try:\n",
    "        # Only parse the value if it looks like a str list\n",
    "        if isinstance(s, str) and s.startswith('[') and s.endswith(']'):\n",
    "            return ast.literal_eval(s)\n",
    "        # In case it's something else, just return it\n",
    "        else:\n",
    "            return s\n",
    "    # This catches cases where the list contains a nan -> [nan]\n",
    "    except (ValueError, SyntaxError):\n",
    "        return s"
   ]
  },
  {
   "cell_type": "code",
   "execution_count": 4,
   "metadata": {},
   "outputs": [],
   "source": [
    "# Load the data\n",
    "data_filepath = './Data/augm_lboxd.csv'\n",
    "letterboxd = pd.read_csv(data_filepath)\n",
    "\n",
    "# Cast genre and country columns from augm_movies from strings (stored that way) back to lists\n",
    "letterboxd['genre'] = letterboxd['genre'].apply(convert_to_list)\n",
    "letterboxd['country'] = letterboxd['country'].apply(convert_to_list)"
   ]
  },
  {
   "cell_type": "code",
   "execution_count": 5,
   "metadata": {},
   "outputs": [
    {
     "data": {
      "text/html": [
       "<div>\n",
       "<style scoped>\n",
       "    .dataframe tbody tr th:only-of-type {\n",
       "        vertical-align: middle;\n",
       "    }\n",
       "\n",
       "    .dataframe tbody tr th {\n",
       "        vertical-align: top;\n",
       "    }\n",
       "\n",
       "    .dataframe thead th {\n",
       "        text-align: right;\n",
       "    }\n",
       "</style>\n",
       "<table border=\"1\" class=\"dataframe\">\n",
       "  <thead>\n",
       "    <tr style=\"text-align: right;\">\n",
       "      <th></th>\n",
       "      <th>user</th>\n",
       "      <th>title</th>\n",
       "      <th>rating</th>\n",
       "      <th>movie_id</th>\n",
       "      <th>date</th>\n",
       "      <th>minute</th>\n",
       "      <th>mean_rating</th>\n",
       "      <th>genre</th>\n",
       "      <th>country</th>\n",
       "    </tr>\n",
       "  </thead>\n",
       "  <tbody>\n",
       "    <tr>\n",
       "      <th>0</th>\n",
       "      <td>144</td>\n",
       "      <td>Puss in Boots: The Last Wish</td>\n",
       "      <td>4.5</td>\n",
       "      <td>66829</td>\n",
       "      <td>2022.0</td>\n",
       "      <td>103.0</td>\n",
       "      <td>4.16</td>\n",
       "      <td>[Comedy, Action, Adventure, Family, Animation,...</td>\n",
       "      <td>[USA]</td>\n",
       "    </tr>\n",
       "    <tr>\n",
       "      <th>1</th>\n",
       "      <td>144</td>\n",
       "      <td>The Guardians of the Galaxy Holiday Special</td>\n",
       "      <td>4.0</td>\n",
       "      <td>87522</td>\n",
       "      <td>2022.0</td>\n",
       "      <td>45.0</td>\n",
       "      <td>3.25</td>\n",
       "      <td>[Comedy, Adventure, Science Fiction]</td>\n",
       "      <td>[USA]</td>\n",
       "    </tr>\n",
       "    <tr>\n",
       "      <th>2</th>\n",
       "      <td>144</td>\n",
       "      <td>Dinosaur Hotel 2</td>\n",
       "      <td>2.0</td>\n",
       "      <td>25219</td>\n",
       "      <td>2022.0</td>\n",
       "      <td>80.0</td>\n",
       "      <td>NaN</td>\n",
       "      <td>[Horror]</td>\n",
       "      <td>[UK]</td>\n",
       "    </tr>\n",
       "    <tr>\n",
       "      <th>3</th>\n",
       "      <td>144</td>\n",
       "      <td>Strange World</td>\n",
       "      <td>2.5</td>\n",
       "      <td>77851</td>\n",
       "      <td>2022.0</td>\n",
       "      <td>102.0</td>\n",
       "      <td>2.84</td>\n",
       "      <td>[Science Fiction, Animation, Adventure, Fantas...</td>\n",
       "      <td>[USA]</td>\n",
       "    </tr>\n",
       "    <tr>\n",
       "      <th>4</th>\n",
       "      <td>144</td>\n",
       "      <td>Zen - Grogu and Dust Bunnies</td>\n",
       "      <td>3.0</td>\n",
       "      <td>108598</td>\n",
       "      <td>2022.0</td>\n",
       "      <td>3.0</td>\n",
       "      <td>3.11</td>\n",
       "      <td>[Fantasy, Animation, Science Fiction]</td>\n",
       "      <td>[Japan, USA]</td>\n",
       "    </tr>\n",
       "    <tr>\n",
       "      <th>...</th>\n",
       "      <td>...</td>\n",
       "      <td>...</td>\n",
       "      <td>...</td>\n",
       "      <td>...</td>\n",
       "      <td>...</td>\n",
       "      <td>...</td>\n",
       "      <td>...</td>\n",
       "      <td>...</td>\n",
       "      <td>...</td>\n",
       "    </tr>\n",
       "    <tr>\n",
       "      <th>1433485</th>\n",
       "      <td>290</td>\n",
       "      <td>Newark Athlete</td>\n",
       "      <td>0.0</td>\n",
       "      <td>58824</td>\n",
       "      <td>1891.0</td>\n",
       "      <td>1.0</td>\n",
       "      <td>2.62</td>\n",
       "      <td>[Documentary]</td>\n",
       "      <td>[USA]</td>\n",
       "    </tr>\n",
       "    <tr>\n",
       "      <th>1433486</th>\n",
       "      <td>290</td>\n",
       "      <td>Roundhay Garden Scene</td>\n",
       "      <td>0.0</td>\n",
       "      <td>70149</td>\n",
       "      <td>1888.0</td>\n",
       "      <td>1.0</td>\n",
       "      <td>3.27</td>\n",
       "      <td>[Documentary]</td>\n",
       "      <td>[UK]</td>\n",
       "    </tr>\n",
       "    <tr>\n",
       "      <th>1433487</th>\n",
       "      <td>290</td>\n",
       "      <td>Sallie Gardner at a Gallop</td>\n",
       "      <td>0.0</td>\n",
       "      <td>70959</td>\n",
       "      <td>1878.0</td>\n",
       "      <td>1.0</td>\n",
       "      <td>3.69</td>\n",
       "      <td>[Documentary, Animation]</td>\n",
       "      <td>[USA]</td>\n",
       "    </tr>\n",
       "    <tr>\n",
       "      <th>1433488</th>\n",
       "      <td>290</td>\n",
       "      <td>This Land Is Mine</td>\n",
       "      <td>0.0</td>\n",
       "      <td>98758</td>\n",
       "      <td>1943.0</td>\n",
       "      <td>103.0</td>\n",
       "      <td>3.73</td>\n",
       "      <td>[Drama, War]</td>\n",
       "      <td>[USA]</td>\n",
       "    </tr>\n",
       "    <tr>\n",
       "      <th>1433489</th>\n",
       "      <td>290</td>\n",
       "      <td>Heavy Heads</td>\n",
       "      <td>0.0</td>\n",
       "      <td>37551</td>\n",
       "      <td>NaN</td>\n",
       "      <td>8.0</td>\n",
       "      <td>NaN</td>\n",
       "      <td>[nan]</td>\n",
       "      <td>[nan]</td>\n",
       "    </tr>\n",
       "  </tbody>\n",
       "</table>\n",
       "<p>1433490 rows × 9 columns</p>\n",
       "</div>"
      ],
      "text/plain": [
       "         user                                        title  rating  movie_id  \\\n",
       "0         144                 Puss in Boots: The Last Wish     4.5     66829   \n",
       "1         144  The Guardians of the Galaxy Holiday Special     4.0     87522   \n",
       "2         144                             Dinosaur Hotel 2     2.0     25219   \n",
       "3         144                                Strange World     2.5     77851   \n",
       "4         144                 Zen - Grogu and Dust Bunnies     3.0    108598   \n",
       "...       ...                                          ...     ...       ...   \n",
       "1433485   290                               Newark Athlete     0.0     58824   \n",
       "1433486   290                        Roundhay Garden Scene     0.0     70149   \n",
       "1433487   290                   Sallie Gardner at a Gallop     0.0     70959   \n",
       "1433488   290                            This Land Is Mine     0.0     98758   \n",
       "1433489   290                                  Heavy Heads     0.0     37551   \n",
       "\n",
       "           date  minute  mean_rating  \\\n",
       "0        2022.0   103.0         4.16   \n",
       "1        2022.0    45.0         3.25   \n",
       "2        2022.0    80.0          NaN   \n",
       "3        2022.0   102.0         2.84   \n",
       "4        2022.0     3.0         3.11   \n",
       "...         ...     ...          ...   \n",
       "1433485  1891.0     1.0         2.62   \n",
       "1433486  1888.0     1.0         3.27   \n",
       "1433487  1878.0     1.0         3.69   \n",
       "1433488  1943.0   103.0         3.73   \n",
       "1433489     NaN     8.0          NaN   \n",
       "\n",
       "                                                     genre       country  \n",
       "0        [Comedy, Action, Adventure, Family, Animation,...         [USA]  \n",
       "1                     [Comedy, Adventure, Science Fiction]         [USA]  \n",
       "2                                                 [Horror]          [UK]  \n",
       "3        [Science Fiction, Animation, Adventure, Fantas...         [USA]  \n",
       "4                    [Fantasy, Animation, Science Fiction]  [Japan, USA]  \n",
       "...                                                    ...           ...  \n",
       "1433485                                      [Documentary]         [USA]  \n",
       "1433486                                      [Documentary]          [UK]  \n",
       "1433487                           [Documentary, Animation]         [USA]  \n",
       "1433488                                       [Drama, War]         [USA]  \n",
       "1433489                                              [nan]         [nan]  \n",
       "\n",
       "[1433490 rows x 9 columns]"
      ]
     },
     "execution_count": 5,
     "metadata": {},
     "output_type": "execute_result"
    }
   ],
   "source": [
    "letterboxd"
   ]
  },
  {
   "cell_type": "markdown",
   "metadata": {},
   "source": [
    "### Sampling by taking only movies with more than a certain amount of ratings"
   ]
  },
  {
   "cell_type": "code",
   "execution_count": 6,
   "metadata": {},
   "outputs": [],
   "source": [
    "sampled_dataframes = {}\n",
    "movie_counts = letterboxd['title'].value_counts()\n",
    "movie_range = range(0, 551, 10)\n",
    "\n",
    "# For loop that goes from 0 to 401 and adds a dataframe to the sampled_dataframes dictionary that has removed the movies with the corresponding number of ratings\n",
    "for i in movie_range:\n",
    "    # Make a list of movies to keep and then filter the dataframe\n",
    "    movies_to_keep = movie_counts[movie_counts > i].index\n",
    "    sampled_lboxd = letterboxd[letterboxd['title'].isin(movies_to_keep)]\n",
    "    sampled_dataframes[i] = sampled_lboxd"
   ]
  },
  {
   "cell_type": "code",
   "execution_count": 15,
   "metadata": {},
   "outputs": [
    {
     "data": {
      "text/plain": [
       "dict_keys([0, 10, 20, 30, 40, 50, 60, 70, 80, 90, 100, 110, 120, 130, 140, 150, 160, 170, 180, 190, 200, 210, 220, 230, 240, 250, 260, 270, 280, 290, 300, 310, 320, 330, 340, 350, 360, 370, 380, 390, 400, 410, 420, 430, 440, 450, 460, 470, 480, 490, 500, 510, 520, 530, 540, 550])"
      ]
     },
     "execution_count": 15,
     "metadata": {},
     "output_type": "execute_result"
    }
   ],
   "source": [
    "sampled_dataframes.keys()"
   ]
  },
  {
   "cell_type": "markdown",
   "metadata": {},
   "source": [
    "### Sampling by taking all users but random amounts of movies"
   ]
  },
  {
   "cell_type": "code",
   "execution_count": 12,
   "metadata": {},
   "outputs": [],
   "source": [
    "sampled_random_dataframes = {}\n",
    "all_movies = letterboxd['title'].unique()\n",
    "movie_range = range(500, 10000, 500)  # change the numbers here to change the range of samples\n",
    "\n",
    "for movie_number in movie_range:\n",
    "    \n",
    "    random_movies = pd.Series(all_movies).sample(movie_number, random_state=42)  # random_state for reproducibility\n",
    "    random_sample = letterboxd[letterboxd['title'].isin(random_movies)]\n",
    "    sampled_random_dataframes[movie_number] = random_sample"
   ]
  },
  {
   "cell_type": "code",
   "execution_count": 14,
   "metadata": {},
   "outputs": [
    {
     "data": {
      "text/plain": [
       "dict_keys([500, 1000, 1500, 2000, 2500, 3000, 3500, 4000, 4500, 5000, 5500, 6000, 6500, 7000, 7500, 8000, 8500, 9000, 9500])"
      ]
     },
     "execution_count": 14,
     "metadata": {},
     "output_type": "execute_result"
    }
   ],
   "source": [
    "sampled_random_dataframes.keys()"
   ]
  }
 ],
 "metadata": {
  "kernelspec": {
   "display_name": ".venv",
   "language": "python",
   "name": "python3"
  },
  "language_info": {
   "codemirror_mode": {
    "name": "ipython",
    "version": 3
   },
   "file_extension": ".py",
   "mimetype": "text/x-python",
   "name": "python",
   "nbconvert_exporter": "python",
   "pygments_lexer": "ipython3",
   "version": "3.11.8"
  }
 },
 "nbformat": 4,
 "nbformat_minor": 2
}
