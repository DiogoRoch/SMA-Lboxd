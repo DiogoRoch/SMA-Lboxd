{
 "cells": [
  {
   "cell_type": "code",
   "execution_count": 1,
   "id": "initial_id",
   "metadata": {
    "ExecuteTime": {
     "end_time": "2024-05-14T06:33:56.620053Z",
     "start_time": "2024-05-14T06:33:56.334487Z"
    },
    "collapsed": true
   },
   "outputs": [],
   "source": [
    "import numpy as np\n",
    "import pandas as pd\n",
    "import matplotlib.pyplot as plt\n",
    "import seaborn as sns\n",
    "import networkx as nx\n",
    "%matplotlib inline"
   ]
  },
  {
   "cell_type": "code",
   "execution_count": 24,
   "id": "ad09ea73",
   "metadata": {},
   "outputs": [],
   "source": [
    "file_path = './Data/letterbox_anonym.csv'\n",
    "lboxd_data = pd.read_csv(file_path, sep=';', index_col=0)"
   ]
  },
  {
   "cell_type": "code",
   "execution_count": 25,
   "id": "7bb8be0b",
   "metadata": {},
   "outputs": [
    {
     "data": {
      "text/html": [
       "<div>\n",
       "<style scoped>\n",
       "    .dataframe tbody tr th:only-of-type {\n",
       "        vertical-align: middle;\n",
       "    }\n",
       "\n",
       "    .dataframe tbody tr th {\n",
       "        vertical-align: top;\n",
       "    }\n",
       "\n",
       "    .dataframe thead th {\n",
       "        text-align: right;\n",
       "    }\n",
       "</style>\n",
       "<table border=\"1\" class=\"dataframe\">\n",
       "  <thead>\n",
       "    <tr style=\"text-align: right;\">\n",
       "      <th></th>\n",
       "      <th>user</th>\n",
       "      <th>title</th>\n",
       "      <th>rating</th>\n",
       "    </tr>\n",
       "  </thead>\n",
       "  <tbody>\n",
       "    <tr>\n",
       "      <th>0</th>\n",
       "      <td>144</td>\n",
       "      <td>Puss in Boots: The Last Wish</td>\n",
       "      <td>4.5</td>\n",
       "    </tr>\n",
       "    <tr>\n",
       "      <th>1</th>\n",
       "      <td>144</td>\n",
       "      <td>The Guardians of the Galaxy Holiday Special</td>\n",
       "      <td>4.0</td>\n",
       "    </tr>\n",
       "    <tr>\n",
       "      <th>2</th>\n",
       "      <td>144</td>\n",
       "      <td>Dinosaur Hotel 2</td>\n",
       "      <td>2.0</td>\n",
       "    </tr>\n",
       "    <tr>\n",
       "      <th>3</th>\n",
       "      <td>144</td>\n",
       "      <td>Strange World</td>\n",
       "      <td>2.5</td>\n",
       "    </tr>\n",
       "    <tr>\n",
       "      <th>4</th>\n",
       "      <td>144</td>\n",
       "      <td>Zen - Grogu and Dust Bunnies</td>\n",
       "      <td>3.0</td>\n",
       "    </tr>\n",
       "    <tr>\n",
       "      <th>...</th>\n",
       "      <td>...</td>\n",
       "      <td>...</td>\n",
       "      <td>...</td>\n",
       "    </tr>\n",
       "    <tr>\n",
       "      <th>1433507</th>\n",
       "      <td>290</td>\n",
       "      <td>Newark Athlete</td>\n",
       "      <td>0.0</td>\n",
       "    </tr>\n",
       "    <tr>\n",
       "      <th>1433508</th>\n",
       "      <td>290</td>\n",
       "      <td>Roundhay Garden Scene</td>\n",
       "      <td>0.0</td>\n",
       "    </tr>\n",
       "    <tr>\n",
       "      <th>1433509</th>\n",
       "      <td>290</td>\n",
       "      <td>Sallie Gardner at a Gallop</td>\n",
       "      <td>0.0</td>\n",
       "    </tr>\n",
       "    <tr>\n",
       "      <th>1433510</th>\n",
       "      <td>290</td>\n",
       "      <td>This Land Is Mine</td>\n",
       "      <td>0.0</td>\n",
       "    </tr>\n",
       "    <tr>\n",
       "      <th>1433511</th>\n",
       "      <td>290</td>\n",
       "      <td>Heavy Heads</td>\n",
       "      <td>0.0</td>\n",
       "    </tr>\n",
       "  </tbody>\n",
       "</table>\n",
       "<p>1433512 rows × 3 columns</p>\n",
       "</div>"
      ],
      "text/plain": [
       "         user                                        title  rating\n",
       "0         144                 Puss in Boots: The Last Wish     4.5\n",
       "1         144  The Guardians of the Galaxy Holiday Special     4.0\n",
       "2         144                             Dinosaur Hotel 2     2.0\n",
       "3         144                                Strange World     2.5\n",
       "4         144                 Zen - Grogu and Dust Bunnies     3.0\n",
       "...       ...                                          ...     ...\n",
       "1433507   290                               Newark Athlete     0.0\n",
       "1433508   290                        Roundhay Garden Scene     0.0\n",
       "1433509   290                   Sallie Gardner at a Gallop     0.0\n",
       "1433510   290                            This Land Is Mine     0.0\n",
       "1433511   290                                  Heavy Heads     0.0\n",
       "\n",
       "[1433512 rows x 3 columns]"
      ]
     },
     "execution_count": 25,
     "metadata": {},
     "output_type": "execute_result"
    }
   ],
   "source": [
    "lboxd_data"
   ]
  },
  {
   "cell_type": "markdown",
   "id": "361c19fe",
   "metadata": {},
   "source": [
    "#### Looking at the dataset\n",
    "- We have ratings from 0 to 5, 0 probably meaning that the movie was watched but not rated by the user, still useful for community detection though\n",
    "- We have 108'276 movies\n",
    "- We have 557 users"
   ]
  },
  {
   "cell_type": "code",
   "execution_count": 26,
   "id": "1591f10c",
   "metadata": {},
   "outputs": [
    {
     "name": "stdout",
     "output_type": "stream",
     "text": [
      "Unique ratings: [0.0, 0.5, 1.0, 1.5, 2.0, 2.5, 3.0, 3.5, 4.0, 4.5, 5.0]\n",
      "Number of unique movies: 108276\n",
      "Number of unique users: 557\n"
     ]
    }
   ],
   "source": [
    "print('Unique ratings:', sorted(lboxd_data['rating'].unique()))\n",
    "print('Number of unique movies:', len(lboxd_data['title'].unique()))\n",
    "print('Number of unique users:', len(lboxd_data['user'].unique()))"
   ]
  },
  {
   "cell_type": "markdown",
   "id": "8b0bcfa6",
   "metadata": {},
   "source": [
    "There are 22 missing movies\n",
    "- The rows are only missing the title of the movie, the user id and rating is present.\n",
    "- Not sure what caused this problem but it is not possible to infer the titles as users are anonymous and the dataset doesn't have supporting data."
   ]
  },
  {
   "cell_type": "code",
   "execution_count": 27,
   "id": "9d8ad965",
   "metadata": {},
   "outputs": [
    {
     "name": "stdout",
     "output_type": "stream",
     "text": [
      "[user] column has [0] missing values.\n",
      "Empty DataFrame\n",
      "Columns: [user, title, rating]\n",
      "Index: []\n",
      "[title] column has [22] missing values.\n",
      "         user title  rating\n",
      "44351      77   NaN     3.0\n",
      "58668     206   NaN     0.0\n",
      "121472     66   NaN     3.5\n",
      "127009     87   NaN     3.5\n",
      "160605    115   NaN     0.0\n",
      "164796    253   NaN     4.0\n",
      "240451    495   NaN     3.0\n",
      "545240    302   NaN     0.0\n",
      "550152     14   NaN     4.5\n",
      "562797     12   NaN     1.0\n",
      "687934    441   NaN     3.5\n",
      "709728    148   NaN     1.0\n",
      "790208    100   NaN     3.5\n",
      "802929    190   NaN     5.0\n",
      "845228    204   NaN     0.0\n",
      "866134     33   NaN     1.5\n",
      "905982    481   NaN     0.0\n",
      "1001948   458   NaN     0.0\n",
      "1060901   273   NaN     0.0\n",
      "1194825   412   NaN     0.0\n",
      "1247769   256   NaN     0.0\n",
      "1250540   298   NaN     0.0\n",
      "[rating] column has [0] missing values.\n",
      "Empty DataFrame\n",
      "Columns: [user, title, rating]\n",
      "Index: []\n"
     ]
    }
   ],
   "source": [
    "for column in lboxd_data.columns:\n",
    "\n",
    "    i_nans = lboxd_data[lboxd_data[column].isna()].index.tolist()\n",
    "    n_nans = sum(lboxd_data[column].isna())\n",
    "    print(f'[{column}] column has [{n_nans}] missing values.')\n",
    "    print(lboxd_data.iloc[i_nans, :])"
   ]
  },
  {
   "cell_type": "markdown",
   "id": "7ad3362b",
   "metadata": {},
   "source": [
    "Removing the rows with missing values\n",
    "- clean_lboxd has 0 missing values in all columns.\n",
    "- clean_lboxd has 22 less rows than the original dataset."
   ]
  },
  {
   "cell_type": "code",
   "execution_count": 28,
   "id": "977fb0e5",
   "metadata": {},
   "outputs": [
    {
     "name": "stdout",
     "output_type": "stream",
     "text": [
      "[user] column has [0] missing values.\n",
      "[title] column has [0] missing values.\n",
      "[rating] column has [0] missing values.\n",
      "Number of ratings lost: 22\n"
     ]
    }
   ],
   "source": [
    "clean_lboxd = lboxd_data.dropna()\n",
    "\n",
    "for column in clean_lboxd.columns:\n",
    "\n",
    "    n_nans = sum(clean_lboxd[column].isna())\n",
    "    print(f'[{column}] column has [{n_nans}] missing values.')\n",
    "\n",
    "print('Number of ratings lost:',len(lboxd_data) - len(clean_lboxd))"
   ]
  },
  {
   "cell_type": "markdown",
   "id": "2d3b8ed1",
   "metadata": {},
   "source": [
    "Casting the columns to their appropriate datatypes\n",
    "- To ensure that we have no problems with the types"
   ]
  },
  {
   "cell_type": "code",
   "execution_count": 31,
   "id": "055c2de7",
   "metadata": {},
   "outputs": [
    {
     "data": {
      "text/plain": [
       "user        int32\n",
       "title      object\n",
       "rating    float64\n",
       "dtype: object"
      ]
     },
     "execution_count": 31,
     "metadata": {},
     "output_type": "execute_result"
    }
   ],
   "source": [
    "clean_lboxd = clean_lboxd.astype({'user':int, 'title':str, 'rating':float})\n",
    "clean_lboxd.dtypes"
   ]
  },
  {
   "cell_type": "code",
   "execution_count": 33,
   "id": "8e3d06b8a8789f4b",
   "metadata": {
    "ExecuteTime": {
     "end_time": "2024-05-09T07:52:06.298709Z",
     "start_time": "2024-05-09T07:52:06.290339Z"
    }
   },
   "outputs": [
    {
     "data": {
      "text/html": [
       "<div>\n",
       "<style scoped>\n",
       "    .dataframe tbody tr th:only-of-type {\n",
       "        vertical-align: middle;\n",
       "    }\n",
       "\n",
       "    .dataframe tbody tr th {\n",
       "        vertical-align: top;\n",
       "    }\n",
       "\n",
       "    .dataframe thead th {\n",
       "        text-align: right;\n",
       "    }\n",
       "</style>\n",
       "<table border=\"1\" class=\"dataframe\">\n",
       "  <thead>\n",
       "    <tr style=\"text-align: right;\">\n",
       "      <th></th>\n",
       "      <th>user</th>\n",
       "      <th>title</th>\n",
       "      <th>rating</th>\n",
       "    </tr>\n",
       "  </thead>\n",
       "  <tbody>\n",
       "    <tr>\n",
       "      <th>0</th>\n",
       "      <td>144</td>\n",
       "      <td>Puss in Boots: The Last Wish</td>\n",
       "      <td>4.5</td>\n",
       "    </tr>\n",
       "    <tr>\n",
       "      <th>1</th>\n",
       "      <td>144</td>\n",
       "      <td>The Guardians of the Galaxy Holiday Special</td>\n",
       "      <td>4.0</td>\n",
       "    </tr>\n",
       "    <tr>\n",
       "      <th>2</th>\n",
       "      <td>144</td>\n",
       "      <td>Dinosaur Hotel 2</td>\n",
       "      <td>2.0</td>\n",
       "    </tr>\n",
       "    <tr>\n",
       "      <th>3</th>\n",
       "      <td>144</td>\n",
       "      <td>Strange World</td>\n",
       "      <td>2.5</td>\n",
       "    </tr>\n",
       "    <tr>\n",
       "      <th>4</th>\n",
       "      <td>144</td>\n",
       "      <td>Zen - Grogu and Dust Bunnies</td>\n",
       "      <td>3.0</td>\n",
       "    </tr>\n",
       "    <tr>\n",
       "      <th>...</th>\n",
       "      <td>...</td>\n",
       "      <td>...</td>\n",
       "      <td>...</td>\n",
       "    </tr>\n",
       "    <tr>\n",
       "      <th>1433507</th>\n",
       "      <td>290</td>\n",
       "      <td>Newark Athlete</td>\n",
       "      <td>0.0</td>\n",
       "    </tr>\n",
       "    <tr>\n",
       "      <th>1433508</th>\n",
       "      <td>290</td>\n",
       "      <td>Roundhay Garden Scene</td>\n",
       "      <td>0.0</td>\n",
       "    </tr>\n",
       "    <tr>\n",
       "      <th>1433509</th>\n",
       "      <td>290</td>\n",
       "      <td>Sallie Gardner at a Gallop</td>\n",
       "      <td>0.0</td>\n",
       "    </tr>\n",
       "    <tr>\n",
       "      <th>1433510</th>\n",
       "      <td>290</td>\n",
       "      <td>This Land Is Mine</td>\n",
       "      <td>0.0</td>\n",
       "    </tr>\n",
       "    <tr>\n",
       "      <th>1433511</th>\n",
       "      <td>290</td>\n",
       "      <td>Heavy Heads</td>\n",
       "      <td>0.0</td>\n",
       "    </tr>\n",
       "  </tbody>\n",
       "</table>\n",
       "<p>1433490 rows × 3 columns</p>\n",
       "</div>"
      ],
      "text/plain": [
       "         user                                        title  rating\n",
       "0         144                 Puss in Boots: The Last Wish     4.5\n",
       "1         144  The Guardians of the Galaxy Holiday Special     4.0\n",
       "2         144                             Dinosaur Hotel 2     2.0\n",
       "3         144                                Strange World     2.5\n",
       "4         144                 Zen - Grogu and Dust Bunnies     3.0\n",
       "...       ...                                          ...     ...\n",
       "1433507   290                               Newark Athlete     0.0\n",
       "1433508   290                        Roundhay Garden Scene     0.0\n",
       "1433509   290                   Sallie Gardner at a Gallop     0.0\n",
       "1433510   290                            This Land Is Mine     0.0\n",
       "1433511   290                                  Heavy Heads     0.0\n",
       "\n",
       "[1433490 rows x 3 columns]"
      ]
     },
     "execution_count": 33,
     "metadata": {},
     "output_type": "execute_result"
    }
   ],
   "source": [
    "clean_lboxd"
   ]
  },
  {
   "cell_type": "markdown",
   "id": "28d75872",
   "metadata": {},
   "source": [
    "#### Adding an ID columns as an alternative\n",
    "- In case we feel that some movie titles are hard to work with\n",
    "- Starting at 1000 to ensure there is no overlapping with the user ids (go up to 557)"
   ]
  },
  {
   "cell_type": "code",
   "execution_count": 34,
   "id": "5e8e2107cce4456e",
   "metadata": {
    "ExecuteTime": {
     "end_time": "2024-05-09T07:53:27.178433Z",
     "start_time": "2024-05-09T07:53:26.863900Z"
    }
   },
   "outputs": [
    {
     "data": {
      "text/html": [
       "<div>\n",
       "<style scoped>\n",
       "    .dataframe tbody tr th:only-of-type {\n",
       "        vertical-align: middle;\n",
       "    }\n",
       "\n",
       "    .dataframe tbody tr th {\n",
       "        vertical-align: top;\n",
       "    }\n",
       "\n",
       "    .dataframe thead th {\n",
       "        text-align: right;\n",
       "    }\n",
       "</style>\n",
       "<table border=\"1\" class=\"dataframe\">\n",
       "  <thead>\n",
       "    <tr style=\"text-align: right;\">\n",
       "      <th></th>\n",
       "      <th>user</th>\n",
       "      <th>title</th>\n",
       "      <th>rating</th>\n",
       "      <th>movie_id</th>\n",
       "    </tr>\n",
       "  </thead>\n",
       "  <tbody>\n",
       "    <tr>\n",
       "      <th>0</th>\n",
       "      <td>144</td>\n",
       "      <td>Puss in Boots: The Last Wish</td>\n",
       "      <td>4.5</td>\n",
       "      <td>66829</td>\n",
       "    </tr>\n",
       "    <tr>\n",
       "      <th>1</th>\n",
       "      <td>144</td>\n",
       "      <td>The Guardians of the Galaxy Holiday Special</td>\n",
       "      <td>4.0</td>\n",
       "      <td>87522</td>\n",
       "    </tr>\n",
       "    <tr>\n",
       "      <th>2</th>\n",
       "      <td>144</td>\n",
       "      <td>Dinosaur Hotel 2</td>\n",
       "      <td>2.0</td>\n",
       "      <td>25219</td>\n",
       "    </tr>\n",
       "    <tr>\n",
       "      <th>3</th>\n",
       "      <td>144</td>\n",
       "      <td>Strange World</td>\n",
       "      <td>2.5</td>\n",
       "      <td>77851</td>\n",
       "    </tr>\n",
       "    <tr>\n",
       "      <th>4</th>\n",
       "      <td>144</td>\n",
       "      <td>Zen - Grogu and Dust Bunnies</td>\n",
       "      <td>3.0</td>\n",
       "      <td>108598</td>\n",
       "    </tr>\n",
       "    <tr>\n",
       "      <th>...</th>\n",
       "      <td>...</td>\n",
       "      <td>...</td>\n",
       "      <td>...</td>\n",
       "      <td>...</td>\n",
       "    </tr>\n",
       "    <tr>\n",
       "      <th>1433507</th>\n",
       "      <td>290</td>\n",
       "      <td>Newark Athlete</td>\n",
       "      <td>0.0</td>\n",
       "      <td>58824</td>\n",
       "    </tr>\n",
       "    <tr>\n",
       "      <th>1433508</th>\n",
       "      <td>290</td>\n",
       "      <td>Roundhay Garden Scene</td>\n",
       "      <td>0.0</td>\n",
       "      <td>70149</td>\n",
       "    </tr>\n",
       "    <tr>\n",
       "      <th>1433509</th>\n",
       "      <td>290</td>\n",
       "      <td>Sallie Gardner at a Gallop</td>\n",
       "      <td>0.0</td>\n",
       "      <td>70959</td>\n",
       "    </tr>\n",
       "    <tr>\n",
       "      <th>1433510</th>\n",
       "      <td>290</td>\n",
       "      <td>This Land Is Mine</td>\n",
       "      <td>0.0</td>\n",
       "      <td>98758</td>\n",
       "    </tr>\n",
       "    <tr>\n",
       "      <th>1433511</th>\n",
       "      <td>290</td>\n",
       "      <td>Heavy Heads</td>\n",
       "      <td>0.0</td>\n",
       "      <td>37551</td>\n",
       "    </tr>\n",
       "  </tbody>\n",
       "</table>\n",
       "<p>1433490 rows × 4 columns</p>\n",
       "</div>"
      ],
      "text/plain": [
       "         user                                        title  rating  movie_id\n",
       "0         144                 Puss in Boots: The Last Wish     4.5     66829\n",
       "1         144  The Guardians of the Galaxy Holiday Special     4.0     87522\n",
       "2         144                             Dinosaur Hotel 2     2.0     25219\n",
       "3         144                                Strange World     2.5     77851\n",
       "4         144                 Zen - Grogu and Dust Bunnies     3.0    108598\n",
       "...       ...                                          ...     ...       ...\n",
       "1433507   290                               Newark Athlete     0.0     58824\n",
       "1433508   290                        Roundhay Garden Scene     0.0     70149\n",
       "1433509   290                   Sallie Gardner at a Gallop     0.0     70959\n",
       "1433510   290                            This Land Is Mine     0.0     98758\n",
       "1433511   290                                  Heavy Heads     0.0     37551\n",
       "\n",
       "[1433490 rows x 4 columns]"
      ]
     },
     "execution_count": 34,
     "metadata": {},
     "output_type": "execute_result"
    }
   ],
   "source": [
    "# Add a unique ID for each movie starting at 1000 to ensure that the user IDs are not the same as the movie IDs\n",
    "# Each movie title has to be assigned an unique ID\n",
    "clean_lboxd['movie_id'] = clean_lboxd['title'].astype('category').cat.codes + 1000\n",
    "clean_lboxd"
   ]
  },
  {
   "cell_type": "code",
   "execution_count": 35,
   "id": "abc1f51b764ceae4",
   "metadata": {
    "ExecuteTime": {
     "end_time": "2024-05-09T07:53:52.440794Z",
     "start_time": "2024-05-09T07:53:52.437413Z"
    }
   },
   "outputs": [
    {
     "name": "stdout",
     "output_type": "stream",
     "text": [
      "1000\n",
      "109274\n"
     ]
    }
   ],
   "source": [
    "# Check the minimum and maximum movie IDs\n",
    "print(clean_lboxd['movie_id'].min())\n",
    "print(clean_lboxd['movie_id'].max())"
   ]
  },
  {
   "cell_type": "code",
   "execution_count": 36,
   "id": "c1ec135dc44a2a34",
   "metadata": {
    "ExecuteTime": {
     "end_time": "2024-05-09T08:03:29.137486Z",
     "start_time": "2024-05-09T08:03:29.131813Z"
    }
   },
   "outputs": [
    {
     "name": "stdout",
     "output_type": "stream",
     "text": [
      "0\n",
      "556\n"
     ]
    }
   ],
   "source": [
    "# Check minimum and maximum user IDs\n",
    "print(clean_lboxd['user'].min())\n",
    "print(clean_lboxd['user'].max())"
   ]
  },
  {
   "cell_type": "code",
   "execution_count": 37,
   "id": "2994b9a07cd462c1",
   "metadata": {
    "ExecuteTime": {
     "end_time": "2024-05-09T07:54:10.059073Z",
     "start_time": "2024-05-09T07:54:10.046897Z"
    }
   },
   "outputs": [
    {
     "data": {
      "text/plain": [
       "108275"
      ]
     },
     "execution_count": 37,
     "metadata": {},
     "output_type": "execute_result"
    }
   ],
   "source": [
    "# Check the number of unique movie IDs\n",
    "len(clean_lboxd['movie_id'].unique())"
   ]
  },
  {
   "cell_type": "code",
   "execution_count": 38,
   "id": "f199f413725896a5",
   "metadata": {
    "ExecuteTime": {
     "end_time": "2024-05-09T07:54:59.145232Z",
     "start_time": "2024-05-09T07:54:59.123018Z"
    }
   },
   "outputs": [
    {
     "name": "stdout",
     "output_type": "stream",
     "text": [
      "         user                  title  rating  movie_id\n",
      "404493    167  !Women Art Revolution     4.5      1000\n",
      "1040524   264  !Women Art Revolution     3.0      1000\n",
      "2\n"
     ]
    }
   ],
   "source": [
    "# Check which movie title corresponds to the movie ID 1000\n",
    "print(clean_lboxd[clean_lboxd['movie_id'] == 1000])\n",
    "\n",
    "# Check how many times that movie_id appears in the dataset\n",
    "print(clean_lboxd['movie_id'].value_counts()[1000])"
   ]
  },
  {
   "cell_type": "markdown",
   "id": "eab3ad3a",
   "metadata": {},
   "source": [
    "#### Sampling from the dataset\n",
    "- Our dataset is quite large (1M4 ratings), and while testing bilouvain we found that runtime was extremely long (didn't converge after almost 20h)\n",
    "- To ensure that we can test our algorithm we need to sample the dataset, however it's hard to do sampling while keeping network structure.\n",
    "- A way I thought of doing so is by removing movies that appear only once in the dataset (meaning only one user rated them) as they might not have a significant impact on the communities."
   ]
  },
  {
   "cell_type": "code",
   "execution_count": 39,
   "id": "272e5b22b4710c9a",
   "metadata": {
    "ExecuteTime": {
     "end_time": "2024-05-09T07:55:32.153955Z",
     "start_time": "2024-05-09T07:55:31.813594Z"
    }
   },
   "outputs": [
    {
     "data": {
      "text/html": [
       "<div>\n",
       "<style scoped>\n",
       "    .dataframe tbody tr th:only-of-type {\n",
       "        vertical-align: middle;\n",
       "    }\n",
       "\n",
       "    .dataframe tbody tr th {\n",
       "        vertical-align: top;\n",
       "    }\n",
       "\n",
       "    .dataframe thead th {\n",
       "        text-align: right;\n",
       "    }\n",
       "</style>\n",
       "<table border=\"1\" class=\"dataframe\">\n",
       "  <thead>\n",
       "    <tr style=\"text-align: right;\">\n",
       "      <th></th>\n",
       "      <th>user</th>\n",
       "      <th>title</th>\n",
       "      <th>rating</th>\n",
       "      <th>movie_id</th>\n",
       "    </tr>\n",
       "  </thead>\n",
       "  <tbody>\n",
       "    <tr>\n",
       "      <th>0</th>\n",
       "      <td>144</td>\n",
       "      <td>Puss in Boots: The Last Wish</td>\n",
       "      <td>4.5</td>\n",
       "      <td>66829</td>\n",
       "    </tr>\n",
       "    <tr>\n",
       "      <th>1</th>\n",
       "      <td>144</td>\n",
       "      <td>The Guardians of the Galaxy Holiday Special</td>\n",
       "      <td>4.0</td>\n",
       "      <td>87522</td>\n",
       "    </tr>\n",
       "    <tr>\n",
       "      <th>2</th>\n",
       "      <td>144</td>\n",
       "      <td>Dinosaur Hotel 2</td>\n",
       "      <td>2.0</td>\n",
       "      <td>25219</td>\n",
       "    </tr>\n",
       "    <tr>\n",
       "      <th>3</th>\n",
       "      <td>144</td>\n",
       "      <td>Strange World</td>\n",
       "      <td>2.5</td>\n",
       "      <td>77851</td>\n",
       "    </tr>\n",
       "    <tr>\n",
       "      <th>4</th>\n",
       "      <td>144</td>\n",
       "      <td>Zen - Grogu and Dust Bunnies</td>\n",
       "      <td>3.0</td>\n",
       "      <td>108598</td>\n",
       "    </tr>\n",
       "    <tr>\n",
       "      <th>...</th>\n",
       "      <td>...</td>\n",
       "      <td>...</td>\n",
       "      <td>...</td>\n",
       "      <td>...</td>\n",
       "    </tr>\n",
       "    <tr>\n",
       "      <th>1433506</th>\n",
       "      <td>290</td>\n",
       "      <td>Blacksmith Scene</td>\n",
       "      <td>0.0</td>\n",
       "      <td>13842</td>\n",
       "    </tr>\n",
       "    <tr>\n",
       "      <th>1433507</th>\n",
       "      <td>290</td>\n",
       "      <td>Newark Athlete</td>\n",
       "      <td>0.0</td>\n",
       "      <td>58824</td>\n",
       "    </tr>\n",
       "    <tr>\n",
       "      <th>1433508</th>\n",
       "      <td>290</td>\n",
       "      <td>Roundhay Garden Scene</td>\n",
       "      <td>0.0</td>\n",
       "      <td>70149</td>\n",
       "    </tr>\n",
       "    <tr>\n",
       "      <th>1433509</th>\n",
       "      <td>290</td>\n",
       "      <td>Sallie Gardner at a Gallop</td>\n",
       "      <td>0.0</td>\n",
       "      <td>70959</td>\n",
       "    </tr>\n",
       "    <tr>\n",
       "      <th>1433510</th>\n",
       "      <td>290</td>\n",
       "      <td>This Land Is Mine</td>\n",
       "      <td>0.0</td>\n",
       "      <td>98758</td>\n",
       "    </tr>\n",
       "  </tbody>\n",
       "</table>\n",
       "<p>1388385 rows × 4 columns</p>\n",
       "</div>"
      ],
      "text/plain": [
       "         user                                        title  rating  movie_id\n",
       "0         144                 Puss in Boots: The Last Wish     4.5     66829\n",
       "1         144  The Guardians of the Galaxy Holiday Special     4.0     87522\n",
       "2         144                             Dinosaur Hotel 2     2.0     25219\n",
       "3         144                                Strange World     2.5     77851\n",
       "4         144                 Zen - Grogu and Dust Bunnies     3.0    108598\n",
       "...       ...                                          ...     ...       ...\n",
       "1433506   290                             Blacksmith Scene     0.0     13842\n",
       "1433507   290                               Newark Athlete     0.0     58824\n",
       "1433508   290                        Roundhay Garden Scene     0.0     70149\n",
       "1433509   290                   Sallie Gardner at a Gallop     0.0     70959\n",
       "1433510   290                            This Land Is Mine     0.0     98758\n",
       "\n",
       "[1388385 rows x 4 columns]"
      ]
     },
     "execution_count": 39,
     "metadata": {},
     "output_type": "execute_result"
    }
   ],
   "source": [
    "# Make a new df without the movies that appear only once\n",
    "movies_count = clean_lboxd['title'].value_counts()\n",
    "movies_to_keep = movies_count[movies_count > 1].index\n",
    "new_lboxd_data = clean_lboxd[clean_lboxd['title'].isin(movies_to_keep)]\n",
    "new_lboxd_data"
   ]
  },
  {
   "cell_type": "code",
   "execution_count": 40,
   "id": "d8e5a2456bc29ddc",
   "metadata": {
    "ExecuteTime": {
     "end_time": "2024-05-09T07:55:39.732939Z",
     "start_time": "2024-05-09T07:55:39.728933Z"
    }
   },
   "outputs": [
    {
     "data": {
      "text/plain": [
       "45105"
      ]
     },
     "execution_count": 40,
     "metadata": {},
     "output_type": "execute_result"
    }
   ],
   "source": [
    "len(clean_lboxd) - len(new_lboxd_data)"
   ]
  },
  {
   "cell_type": "code",
   "execution_count": 11,
   "id": "a5f851cf2b4ba0f2",
   "metadata": {
    "ExecuteTime": {
     "end_time": "2024-05-09T07:55:52.499542Z",
     "start_time": "2024-05-09T07:55:50.572667Z"
    }
   },
   "outputs": [],
   "source": [
    "# Export the new df to a csv file\n",
    "new_lboxd_data.to_csv('./Data/lboxd_no_single_IDcoded.csv', index=False)"
   ]
  },
  {
   "cell_type": "code",
   "execution_count": 13,
   "id": "47d2e6f244cad9fa",
   "metadata": {
    "ExecuteTime": {
     "end_time": "2024-05-09T07:57:53.757863Z",
     "start_time": "2024-05-09T07:57:51.691940Z"
    }
   },
   "outputs": [],
   "source": [
    "# Export the original clean df to a csv file\n",
    "clean_lboxd.to_csv('./Data/lboxd_IDcoded.csv', index=False)"
   ]
  },
  {
   "cell_type": "code",
   "execution_count": 10,
   "id": "894dff14f1b5f43",
   "metadata": {
    "ExecuteTime": {
     "end_time": "2024-05-08T09:24:51.842544Z",
     "start_time": "2024-05-08T09:24:48.767900Z"
    }
   },
   "outputs": [],
   "source": [
    "# Convert the new_lboxd_data to a networkx bipartite graph with users and movies as nodes\n",
    "G = nx.Graph()\n",
    "G.add_nodes_from(new_lboxd_data['user'].unique(), bipartite=0)\n",
    "G.add_nodes_from(new_lboxd_data['title'].unique(), bipartite=1)\n",
    "G.add_edges_from(new_lboxd_data[['user', 'title']].values)"
   ]
  },
  {
   "cell_type": "code",
   "execution_count": 11,
   "id": "49a08c8e64e3cb25",
   "metadata": {
    "ExecuteTime": {
     "end_time": "2024-05-08T09:25:01.451612Z",
     "start_time": "2024-05-08T09:25:00.899344Z"
    }
   },
   "outputs": [
    {
     "data": {
      "text/plain": [
       "True"
      ]
     },
     "execution_count": 11,
     "metadata": {},
     "output_type": "execute_result"
    }
   ],
   "source": [
    "# Check if the graph is bipartite\n",
    "nx.is_bipartite(G)"
   ]
  },
  {
   "cell_type": "code",
   "execution_count": 15,
   "id": "bd2c54df5a57af69",
   "metadata": {
    "ExecuteTime": {
     "end_time": "2024-05-08T09:27:01.420067Z",
     "start_time": "2024-05-08T09:27:01.378157Z"
    }
   },
   "outputs": [
    {
     "name": "stdout",
     "output_type": "stream",
     "text": [
      "63727\n",
      "1388385\n",
      "557\n",
      "63170\n"
     ]
    }
   ],
   "source": [
    "# Check the number of nodes and edges\n",
    "print(nx.number_of_nodes(G))\n",
    "print(nx.number_of_edges(G))\n",
    "\n",
    "# Get the sets of nodes\n",
    "users = {n for n, d in G.nodes(data=True) if d['bipartite'] == 0}\n",
    "movies = {n for n, d in G.nodes(data=True) if d['bipartite'] == 1}\n",
    "\n",
    "# Print the number of nodes in the sets\n",
    "print(len(users))\n",
    "print(len(movies))"
   ]
  }
 ],
 "metadata": {
  "kernelspec": {
   "display_name": "Python 3",
   "language": "python",
   "name": "python3"
  },
  "language_info": {
   "codemirror_mode": {
    "name": "ipython",
    "version": 3
   },
   "file_extension": ".py",
   "mimetype": "text/x-python",
   "name": "python",
   "nbconvert_exporter": "python",
   "pygments_lexer": "ipython3",
   "version": "3.11.8"
  }
 },
 "nbformat": 4,
 "nbformat_minor": 5
}
