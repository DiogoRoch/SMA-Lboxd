{
 "cells": [
  {
   "cell_type": "markdown",
   "metadata": {},
   "source": [
    "### Network Exploration"
   ]
  },
  {
   "cell_type": "markdown",
   "metadata": {},
   "source": [
    "#### Constructing the graph"
   ]
  },
  {
   "cell_type": "code",
   "execution_count": 3,
   "metadata": {},
   "outputs": [],
   "source": [
    "# Importing libraries\n",
    "import seaborn as sns\n",
    "import matplotlib.pyplot as plt\n",
    "import numpy as np\n",
    "import pandas as pd\n",
    "import networkx as nx\n",
    "import igraph as ig\n",
    "\n",
    "%matplotlib inline"
   ]
  },
  {
   "cell_type": "code",
   "execution_count": 86,
   "metadata": {},
   "outputs": [],
   "source": [
    "# Utility function\n",
    "import ast\n",
    "\n",
    "def convert_to_list(s):\n",
    "    if pd.isna(s) or pd.isna(s[0]):\n",
    "        return s\n",
    "    return ast.literal_eval(s)"
   ]
  },
  {
   "cell_type": "code",
   "execution_count": 87,
   "metadata": {},
   "outputs": [
    {
     "ename": "ValueError",
     "evalue": "malformed node or string on line 1: <ast.Name object at 0x141e877f0>",
     "output_type": "error",
     "traceback": [
      "\u001b[0;31m---------------------------------------------------------------------------\u001b[0m",
      "\u001b[0;31mValueError\u001b[0m                                Traceback (most recent call last)",
      "Cell \u001b[0;32mIn[87], line 9\u001b[0m\n\u001b[1;32m      6\u001b[0m augm_movies \u001b[38;5;241m=\u001b[39m pd\u001b[38;5;241m.\u001b[39mread_csv(augm_path, index_col\u001b[38;5;241m=\u001b[39m\u001b[38;5;241m0\u001b[39m)\n\u001b[1;32m      8\u001b[0m \u001b[38;5;66;03m# Cast genre and country columns from augm_movies from strings (stored that way) back to lists\u001b[39;00m\n\u001b[0;32m----> 9\u001b[0m augm_movies[\u001b[38;5;124m'\u001b[39m\u001b[38;5;124mgenre\u001b[39m\u001b[38;5;124m'\u001b[39m] \u001b[38;5;241m=\u001b[39m \u001b[43maugm_movies\u001b[49m\u001b[43m[\u001b[49m\u001b[38;5;124;43m'\u001b[39;49m\u001b[38;5;124;43mgenre\u001b[39;49m\u001b[38;5;124;43m'\u001b[39;49m\u001b[43m]\u001b[49m\u001b[38;5;241;43m.\u001b[39;49m\u001b[43mapply\u001b[49m\u001b[43m(\u001b[49m\u001b[43mconvert_to_list\u001b[49m\u001b[43m)\u001b[49m\n\u001b[1;32m     10\u001b[0m augm_movies[\u001b[38;5;124m'\u001b[39m\u001b[38;5;124mcountry\u001b[39m\u001b[38;5;124m'\u001b[39m] \u001b[38;5;241m=\u001b[39m augm_movies[\u001b[38;5;124m'\u001b[39m\u001b[38;5;124mcountry\u001b[39m\u001b[38;5;124m'\u001b[39m]\u001b[38;5;241m.\u001b[39mapply(convert_to_list)\n\u001b[1;32m     12\u001b[0m lboxd\n",
      "File \u001b[0;32m~/Documents/GitHub/SMA-Lboxd/.venv/lib/python3.11/site-packages/pandas/core/series.py:4924\u001b[0m, in \u001b[0;36mSeries.apply\u001b[0;34m(self, func, convert_dtype, args, by_row, **kwargs)\u001b[0m\n\u001b[1;32m   4789\u001b[0m \u001b[38;5;28;01mdef\u001b[39;00m \u001b[38;5;21mapply\u001b[39m(\n\u001b[1;32m   4790\u001b[0m     \u001b[38;5;28mself\u001b[39m,\n\u001b[1;32m   4791\u001b[0m     func: AggFuncType,\n\u001b[0;32m   (...)\u001b[0m\n\u001b[1;32m   4796\u001b[0m     \u001b[38;5;241m*\u001b[39m\u001b[38;5;241m*\u001b[39mkwargs,\n\u001b[1;32m   4797\u001b[0m ) \u001b[38;5;241m-\u001b[39m\u001b[38;5;241m>\u001b[39m DataFrame \u001b[38;5;241m|\u001b[39m Series:\n\u001b[1;32m   4798\u001b[0m \u001b[38;5;250m    \u001b[39m\u001b[38;5;124;03m\"\"\"\u001b[39;00m\n\u001b[1;32m   4799\u001b[0m \u001b[38;5;124;03m    Invoke function on values of Series.\u001b[39;00m\n\u001b[1;32m   4800\u001b[0m \n\u001b[0;32m   (...)\u001b[0m\n\u001b[1;32m   4915\u001b[0m \u001b[38;5;124;03m    dtype: float64\u001b[39;00m\n\u001b[1;32m   4916\u001b[0m \u001b[38;5;124;03m    \"\"\"\u001b[39;00m\n\u001b[1;32m   4917\u001b[0m     \u001b[38;5;28;01mreturn\u001b[39;00m \u001b[43mSeriesApply\u001b[49m\u001b[43m(\u001b[49m\n\u001b[1;32m   4918\u001b[0m \u001b[43m        \u001b[49m\u001b[38;5;28;43mself\u001b[39;49m\u001b[43m,\u001b[49m\n\u001b[1;32m   4919\u001b[0m \u001b[43m        \u001b[49m\u001b[43mfunc\u001b[49m\u001b[43m,\u001b[49m\n\u001b[1;32m   4920\u001b[0m \u001b[43m        \u001b[49m\u001b[43mconvert_dtype\u001b[49m\u001b[38;5;241;43m=\u001b[39;49m\u001b[43mconvert_dtype\u001b[49m\u001b[43m,\u001b[49m\n\u001b[1;32m   4921\u001b[0m \u001b[43m        \u001b[49m\u001b[43mby_row\u001b[49m\u001b[38;5;241;43m=\u001b[39;49m\u001b[43mby_row\u001b[49m\u001b[43m,\u001b[49m\n\u001b[1;32m   4922\u001b[0m \u001b[43m        \u001b[49m\u001b[43margs\u001b[49m\u001b[38;5;241;43m=\u001b[39;49m\u001b[43margs\u001b[49m\u001b[43m,\u001b[49m\n\u001b[1;32m   4923\u001b[0m \u001b[43m        \u001b[49m\u001b[43mkwargs\u001b[49m\u001b[38;5;241;43m=\u001b[39;49m\u001b[43mkwargs\u001b[49m\u001b[43m,\u001b[49m\n\u001b[0;32m-> 4924\u001b[0m \u001b[43m    \u001b[49m\u001b[43m)\u001b[49m\u001b[38;5;241;43m.\u001b[39;49m\u001b[43mapply\u001b[49m\u001b[43m(\u001b[49m\u001b[43m)\u001b[49m\n",
      "File \u001b[0;32m~/Documents/GitHub/SMA-Lboxd/.venv/lib/python3.11/site-packages/pandas/core/apply.py:1427\u001b[0m, in \u001b[0;36mSeriesApply.apply\u001b[0;34m(self)\u001b[0m\n\u001b[1;32m   1424\u001b[0m     \u001b[38;5;28;01mreturn\u001b[39;00m \u001b[38;5;28mself\u001b[39m\u001b[38;5;241m.\u001b[39mapply_compat()\n\u001b[1;32m   1426\u001b[0m \u001b[38;5;66;03m# self.func is Callable\u001b[39;00m\n\u001b[0;32m-> 1427\u001b[0m \u001b[38;5;28;01mreturn\u001b[39;00m \u001b[38;5;28;43mself\u001b[39;49m\u001b[38;5;241;43m.\u001b[39;49m\u001b[43mapply_standard\u001b[49m\u001b[43m(\u001b[49m\u001b[43m)\u001b[49m\n",
      "File \u001b[0;32m~/Documents/GitHub/SMA-Lboxd/.venv/lib/python3.11/site-packages/pandas/core/apply.py:1507\u001b[0m, in \u001b[0;36mSeriesApply.apply_standard\u001b[0;34m(self)\u001b[0m\n\u001b[1;32m   1501\u001b[0m \u001b[38;5;66;03m# row-wise access\u001b[39;00m\n\u001b[1;32m   1502\u001b[0m \u001b[38;5;66;03m# apply doesn't have a `na_action` keyword and for backward compat reasons\u001b[39;00m\n\u001b[1;32m   1503\u001b[0m \u001b[38;5;66;03m# we need to give `na_action=\"ignore\"` for categorical data.\u001b[39;00m\n\u001b[1;32m   1504\u001b[0m \u001b[38;5;66;03m# TODO: remove the `na_action=\"ignore\"` when that default has been changed in\u001b[39;00m\n\u001b[1;32m   1505\u001b[0m \u001b[38;5;66;03m#  Categorical (GH51645).\u001b[39;00m\n\u001b[1;32m   1506\u001b[0m action \u001b[38;5;241m=\u001b[39m \u001b[38;5;124m\"\u001b[39m\u001b[38;5;124mignore\u001b[39m\u001b[38;5;124m\"\u001b[39m \u001b[38;5;28;01mif\u001b[39;00m \u001b[38;5;28misinstance\u001b[39m(obj\u001b[38;5;241m.\u001b[39mdtype, CategoricalDtype) \u001b[38;5;28;01melse\u001b[39;00m \u001b[38;5;28;01mNone\u001b[39;00m\n\u001b[0;32m-> 1507\u001b[0m mapped \u001b[38;5;241m=\u001b[39m \u001b[43mobj\u001b[49m\u001b[38;5;241;43m.\u001b[39;49m\u001b[43m_map_values\u001b[49m\u001b[43m(\u001b[49m\n\u001b[1;32m   1508\u001b[0m \u001b[43m    \u001b[49m\u001b[43mmapper\u001b[49m\u001b[38;5;241;43m=\u001b[39;49m\u001b[43mcurried\u001b[49m\u001b[43m,\u001b[49m\u001b[43m \u001b[49m\u001b[43mna_action\u001b[49m\u001b[38;5;241;43m=\u001b[39;49m\u001b[43maction\u001b[49m\u001b[43m,\u001b[49m\u001b[43m \u001b[49m\u001b[43mconvert\u001b[49m\u001b[38;5;241;43m=\u001b[39;49m\u001b[38;5;28;43mself\u001b[39;49m\u001b[38;5;241;43m.\u001b[39;49m\u001b[43mconvert_dtype\u001b[49m\n\u001b[1;32m   1509\u001b[0m \u001b[43m\u001b[49m\u001b[43m)\u001b[49m\n\u001b[1;32m   1511\u001b[0m \u001b[38;5;28;01mif\u001b[39;00m \u001b[38;5;28mlen\u001b[39m(mapped) \u001b[38;5;129;01mand\u001b[39;00m \u001b[38;5;28misinstance\u001b[39m(mapped[\u001b[38;5;241m0\u001b[39m], ABCSeries):\n\u001b[1;32m   1512\u001b[0m     \u001b[38;5;66;03m# GH#43986 Need to do list(mapped) in order to get treated as nested\u001b[39;00m\n\u001b[1;32m   1513\u001b[0m     \u001b[38;5;66;03m#  See also GH#25959 regarding EA support\u001b[39;00m\n\u001b[1;32m   1514\u001b[0m     \u001b[38;5;28;01mreturn\u001b[39;00m obj\u001b[38;5;241m.\u001b[39m_constructor_expanddim(\u001b[38;5;28mlist\u001b[39m(mapped), index\u001b[38;5;241m=\u001b[39mobj\u001b[38;5;241m.\u001b[39mindex)\n",
      "File \u001b[0;32m~/Documents/GitHub/SMA-Lboxd/.venv/lib/python3.11/site-packages/pandas/core/base.py:921\u001b[0m, in \u001b[0;36mIndexOpsMixin._map_values\u001b[0;34m(self, mapper, na_action, convert)\u001b[0m\n\u001b[1;32m    918\u001b[0m \u001b[38;5;28;01mif\u001b[39;00m \u001b[38;5;28misinstance\u001b[39m(arr, ExtensionArray):\n\u001b[1;32m    919\u001b[0m     \u001b[38;5;28;01mreturn\u001b[39;00m arr\u001b[38;5;241m.\u001b[39mmap(mapper, na_action\u001b[38;5;241m=\u001b[39mna_action)\n\u001b[0;32m--> 921\u001b[0m \u001b[38;5;28;01mreturn\u001b[39;00m \u001b[43malgorithms\u001b[49m\u001b[38;5;241;43m.\u001b[39;49m\u001b[43mmap_array\u001b[49m\u001b[43m(\u001b[49m\u001b[43marr\u001b[49m\u001b[43m,\u001b[49m\u001b[43m \u001b[49m\u001b[43mmapper\u001b[49m\u001b[43m,\u001b[49m\u001b[43m \u001b[49m\u001b[43mna_action\u001b[49m\u001b[38;5;241;43m=\u001b[39;49m\u001b[43mna_action\u001b[49m\u001b[43m,\u001b[49m\u001b[43m \u001b[49m\u001b[43mconvert\u001b[49m\u001b[38;5;241;43m=\u001b[39;49m\u001b[43mconvert\u001b[49m\u001b[43m)\u001b[49m\n",
      "File \u001b[0;32m~/Documents/GitHub/SMA-Lboxd/.venv/lib/python3.11/site-packages/pandas/core/algorithms.py:1743\u001b[0m, in \u001b[0;36mmap_array\u001b[0;34m(arr, mapper, na_action, convert)\u001b[0m\n\u001b[1;32m   1741\u001b[0m values \u001b[38;5;241m=\u001b[39m arr\u001b[38;5;241m.\u001b[39mastype(\u001b[38;5;28mobject\u001b[39m, copy\u001b[38;5;241m=\u001b[39m\u001b[38;5;28;01mFalse\u001b[39;00m)\n\u001b[1;32m   1742\u001b[0m \u001b[38;5;28;01mif\u001b[39;00m na_action \u001b[38;5;129;01mis\u001b[39;00m \u001b[38;5;28;01mNone\u001b[39;00m:\n\u001b[0;32m-> 1743\u001b[0m     \u001b[38;5;28;01mreturn\u001b[39;00m \u001b[43mlib\u001b[49m\u001b[38;5;241;43m.\u001b[39;49m\u001b[43mmap_infer\u001b[49m\u001b[43m(\u001b[49m\u001b[43mvalues\u001b[49m\u001b[43m,\u001b[49m\u001b[43m \u001b[49m\u001b[43mmapper\u001b[49m\u001b[43m,\u001b[49m\u001b[43m \u001b[49m\u001b[43mconvert\u001b[49m\u001b[38;5;241;43m=\u001b[39;49m\u001b[43mconvert\u001b[49m\u001b[43m)\u001b[49m\n\u001b[1;32m   1744\u001b[0m \u001b[38;5;28;01melse\u001b[39;00m:\n\u001b[1;32m   1745\u001b[0m     \u001b[38;5;28;01mreturn\u001b[39;00m lib\u001b[38;5;241m.\u001b[39mmap_infer_mask(\n\u001b[1;32m   1746\u001b[0m         values, mapper, mask\u001b[38;5;241m=\u001b[39misna(values)\u001b[38;5;241m.\u001b[39mview(np\u001b[38;5;241m.\u001b[39muint8), convert\u001b[38;5;241m=\u001b[39mconvert\n\u001b[1;32m   1747\u001b[0m     )\n",
      "File \u001b[0;32mlib.pyx:2972\u001b[0m, in \u001b[0;36mpandas._libs.lib.map_infer\u001b[0;34m()\u001b[0m\n",
      "Cell \u001b[0;32mIn[86], line 7\u001b[0m, in \u001b[0;36mconvert_to_list\u001b[0;34m(s)\u001b[0m\n\u001b[1;32m      5\u001b[0m \u001b[38;5;28;01mif\u001b[39;00m pd\u001b[38;5;241m.\u001b[39misna(s) \u001b[38;5;129;01mor\u001b[39;00m pd\u001b[38;5;241m.\u001b[39misna(s[\u001b[38;5;241m0\u001b[39m]):\n\u001b[1;32m      6\u001b[0m     \u001b[38;5;28;01mreturn\u001b[39;00m s\n\u001b[0;32m----> 7\u001b[0m \u001b[38;5;28;01mreturn\u001b[39;00m \u001b[43mast\u001b[49m\u001b[38;5;241;43m.\u001b[39;49m\u001b[43mliteral_eval\u001b[49m\u001b[43m(\u001b[49m\u001b[43ms\u001b[49m\u001b[43m)\u001b[49m\n",
      "File \u001b[0;32m/Library/Frameworks/Python.framework/Versions/3.11/lib/python3.11/ast.py:110\u001b[0m, in \u001b[0;36mliteral_eval\u001b[0;34m(node_or_string)\u001b[0m\n\u001b[1;32m    108\u001b[0m                 \u001b[38;5;28;01mreturn\u001b[39;00m left \u001b[38;5;241m-\u001b[39m right\n\u001b[1;32m    109\u001b[0m     \u001b[38;5;28;01mreturn\u001b[39;00m _convert_signed_num(node)\n\u001b[0;32m--> 110\u001b[0m \u001b[38;5;28;01mreturn\u001b[39;00m \u001b[43m_convert\u001b[49m\u001b[43m(\u001b[49m\u001b[43mnode_or_string\u001b[49m\u001b[43m)\u001b[49m\n",
      "File \u001b[0;32m/Library/Frameworks/Python.framework/Versions/3.11/lib/python3.11/ast.py:90\u001b[0m, in \u001b[0;36mliteral_eval.<locals>._convert\u001b[0;34m(node)\u001b[0m\n\u001b[1;32m     88\u001b[0m     \u001b[38;5;28;01mreturn\u001b[39;00m \u001b[38;5;28mtuple\u001b[39m(\u001b[38;5;28mmap\u001b[39m(_convert, node\u001b[38;5;241m.\u001b[39melts))\n\u001b[1;32m     89\u001b[0m \u001b[38;5;28;01melif\u001b[39;00m \u001b[38;5;28misinstance\u001b[39m(node, List):\n\u001b[0;32m---> 90\u001b[0m     \u001b[38;5;28;01mreturn\u001b[39;00m \u001b[38;5;28mlist\u001b[39m(\u001b[38;5;28mmap\u001b[39m(_convert, node\u001b[38;5;241m.\u001b[39melts))\n\u001b[1;32m     91\u001b[0m \u001b[38;5;28;01melif\u001b[39;00m \u001b[38;5;28misinstance\u001b[39m(node, Set):\n\u001b[1;32m     92\u001b[0m     \u001b[38;5;28;01mreturn\u001b[39;00m \u001b[38;5;28mset\u001b[39m(\u001b[38;5;28mmap\u001b[39m(_convert, node\u001b[38;5;241m.\u001b[39melts))\n",
      "File \u001b[0;32m/Library/Frameworks/Python.framework/Versions/3.11/lib/python3.11/ast.py:109\u001b[0m, in \u001b[0;36mliteral_eval.<locals>._convert\u001b[0;34m(node)\u001b[0m\n\u001b[1;32m    107\u001b[0m         \u001b[38;5;28;01melse\u001b[39;00m:\n\u001b[1;32m    108\u001b[0m             \u001b[38;5;28;01mreturn\u001b[39;00m left \u001b[38;5;241m-\u001b[39m right\n\u001b[0;32m--> 109\u001b[0m \u001b[38;5;28;01mreturn\u001b[39;00m \u001b[43m_convert_signed_num\u001b[49m\u001b[43m(\u001b[49m\u001b[43mnode\u001b[49m\u001b[43m)\u001b[49m\n",
      "File \u001b[0;32m/Library/Frameworks/Python.framework/Versions/3.11/lib/python3.11/ast.py:83\u001b[0m, in \u001b[0;36mliteral_eval.<locals>._convert_signed_num\u001b[0;34m(node)\u001b[0m\n\u001b[1;32m     81\u001b[0m     \u001b[38;5;28;01melse\u001b[39;00m:\n\u001b[1;32m     82\u001b[0m         \u001b[38;5;28;01mreturn\u001b[39;00m \u001b[38;5;241m-\u001b[39m operand\n\u001b[0;32m---> 83\u001b[0m \u001b[38;5;28;01mreturn\u001b[39;00m \u001b[43m_convert_num\u001b[49m\u001b[43m(\u001b[49m\u001b[43mnode\u001b[49m\u001b[43m)\u001b[49m\n",
      "File \u001b[0;32m/Library/Frameworks/Python.framework/Versions/3.11/lib/python3.11/ast.py:74\u001b[0m, in \u001b[0;36mliteral_eval.<locals>._convert_num\u001b[0;34m(node)\u001b[0m\n\u001b[1;32m     72\u001b[0m \u001b[38;5;28;01mdef\u001b[39;00m \u001b[38;5;21m_convert_num\u001b[39m(node):\n\u001b[1;32m     73\u001b[0m     \u001b[38;5;28;01mif\u001b[39;00m \u001b[38;5;129;01mnot\u001b[39;00m \u001b[38;5;28misinstance\u001b[39m(node, Constant) \u001b[38;5;129;01mor\u001b[39;00m \u001b[38;5;28mtype\u001b[39m(node\u001b[38;5;241m.\u001b[39mvalue) \u001b[38;5;129;01mnot\u001b[39;00m \u001b[38;5;129;01min\u001b[39;00m (\u001b[38;5;28mint\u001b[39m, \u001b[38;5;28mfloat\u001b[39m, \u001b[38;5;28mcomplex\u001b[39m):\n\u001b[0;32m---> 74\u001b[0m         \u001b[43m_raise_malformed_node\u001b[49m\u001b[43m(\u001b[49m\u001b[43mnode\u001b[49m\u001b[43m)\u001b[49m\n\u001b[1;32m     75\u001b[0m     \u001b[38;5;28;01mreturn\u001b[39;00m node\u001b[38;5;241m.\u001b[39mvalue\n",
      "File \u001b[0;32m/Library/Frameworks/Python.framework/Versions/3.11/lib/python3.11/ast.py:71\u001b[0m, in \u001b[0;36mliteral_eval.<locals>._raise_malformed_node\u001b[0;34m(node)\u001b[0m\n\u001b[1;32m     69\u001b[0m \u001b[38;5;28;01mif\u001b[39;00m lno \u001b[38;5;241m:=\u001b[39m \u001b[38;5;28mgetattr\u001b[39m(node, \u001b[38;5;124m'\u001b[39m\u001b[38;5;124mlineno\u001b[39m\u001b[38;5;124m'\u001b[39m, \u001b[38;5;28;01mNone\u001b[39;00m):\n\u001b[1;32m     70\u001b[0m     msg \u001b[38;5;241m+\u001b[39m\u001b[38;5;241m=\u001b[39m \u001b[38;5;124mf\u001b[39m\u001b[38;5;124m'\u001b[39m\u001b[38;5;124m on line \u001b[39m\u001b[38;5;132;01m{\u001b[39;00mlno\u001b[38;5;132;01m}\u001b[39;00m\u001b[38;5;124m'\u001b[39m\n\u001b[0;32m---> 71\u001b[0m \u001b[38;5;28;01mraise\u001b[39;00m \u001b[38;5;167;01mValueError\u001b[39;00m(msg \u001b[38;5;241m+\u001b[39m \u001b[38;5;124mf\u001b[39m\u001b[38;5;124m'\u001b[39m\u001b[38;5;124m: \u001b[39m\u001b[38;5;132;01m{\u001b[39;00mnode\u001b[38;5;132;01m!r}\u001b[39;00m\u001b[38;5;124m'\u001b[39m)\n",
      "\u001b[0;31mValueError\u001b[0m: malformed node or string on line 1: <ast.Name object at 0x141e877f0>"
     ]
    }
   ],
   "source": [
    "# Loading the data\n",
    "lboxd_path = './Data/lboxd_IDcoded.csv'\n",
    "augm_path = './Data/augmented_movies.csv'\n",
    "\n",
    "lboxd = pd.read_csv(lboxd_path)\n",
    "augm_movies = pd.read_csv(augm_path, index_col=0)\n",
    "\n",
    "# Cast genre and country columns from augm_movies from strings (stored that way) back to lists\n",
    "augm_movies['genre'] = augm_movies['genre'].apply(convert_to_list)\n",
    "augm_movies['country'] = augm_movies['country'].apply(convert_to_list)\n",
    "\n",
    "lboxd"
   ]
  },
  {
   "cell_type": "code",
   "execution_count": 85,
   "metadata": {},
   "outputs": [
    {
     "data": {
      "text/plain": [
       "0                                  NaN\n",
       "1         ['Animation', 'Documentary']\n",
       "2                           ['Comedy']\n",
       "3                           ['Comedy']\n",
       "4                        ['Animation']\n",
       "                      ...             \n",
       "108270                           [nan]\n",
       "108271                           [nan]\n",
       "108272                     ['Western']\n",
       "108273                             NaN\n",
       "108274             ['Action', 'Music']\n",
       "Name: genre, Length: 108275, dtype: object"
      ]
     },
     "execution_count": 85,
     "metadata": {},
     "output_type": "execute_result"
    }
   ],
   "source": [
    "augm_movies['genre']"
   ]
  },
  {
   "cell_type": "code",
   "execution_count": 5,
   "metadata": {},
   "outputs": [],
   "source": [
    "# Getting data properties\n",
    "# User nodes\n",
    "users = lboxd['user'].unique()\n",
    "# Movie nodes\n",
    "movies = lboxd['title'].unique()\n",
    "# Rating edges\n",
    "edges = lboxd[['user', 'title']].values\n",
    "\n",
    "# Making graph\n",
    "G = nx.Graph()\n",
    "G.add_nodes_from(users, bipartite=0)\n",
    "G.add_nodes_from(movies, bipartite=1)\n",
    "G.add_edges_from(edges)"
   ]
  },
  {
   "cell_type": "code",
   "execution_count": 6,
   "metadata": {},
   "outputs": [
    {
     "name": "stdout",
     "output_type": "stream",
     "text": [
      "108832\n",
      "1433490\n",
      "557\n",
      "108275\n"
     ]
    }
   ],
   "source": [
    "# Checking if the graph initialization makes sense\n",
    "# Check the number of nodes and edges\n",
    "print(nx.number_of_nodes(G)) # seems okay\n",
    "print(nx.number_of_edges(G)) # seems okay\n",
    "\n",
    "# Get the sets of nodes\n",
    "users = {n for n, d in G.nodes(data=True) if d['bipartite'] == 0}\n",
    "movies = {n for n, d in G.nodes(data=True) if d['bipartite'] == 1}\n",
    "\n",
    "# Print the number of nodes in the sets\n",
    "print(len(users))  # 557 is correct\n",
    "print(len(movies)) # 108275 is correct"
   ]
  },
  {
   "cell_type": "markdown",
   "metadata": {},
   "source": [
    "#### **Centrality** Measures\n",
    "- **Degree** centrality: Find nodes with most connections.\n",
    "- **Betweenness** centrality: Find nodes acting as bridges."
   ]
  },
  {
   "cell_type": "markdown",
   "metadata": {},
   "source": [
    "##### Degree Centrality\n",
    "- Degree centrality is much higher in average for users than for movies.\n",
    "    - Average user DC is 200x higher than movie DC -> Users have way more degrees than movies which is expected as there are 100k movies and only 557 users rating them.\n",
    "- Top users: users that rated the most movies -> highly engaged in the network (highly active)\n",
    "    - Average user DC is 10x lower than the top users\n",
    "        - Shows that top users are far more connected than the average user -> Skewed distribution where few users are very active and most users are less active.\n",
    "- Top movies: movies that were the most rated -> highly popular movies\n",
    "    - Average movie DC is approximately 40x lower than the top movies\n",
    "        - Shows that the top movies were rated by far more users than the average movie -> this shows a distribution where few movies are highly popular where most movies have fewer ratings (further supported by what was observed in data processing)\n",
    "\n",
    "What we could do with this info:\n",
    "- Users with high DC tend to rate more movies -> More active users, informative users in a network.\n",
    "- Movies with high DC tend to be more rated (popular movies) -> Could be interesting to recommend these movies and study whether movies with high DC tend to be part of specific genres."
   ]
  },
  {
   "cell_type": "code",
   "execution_count": 7,
   "metadata": {},
   "outputs": [],
   "source": [
    "# Calculate degree centrality\n",
    "degree_centrality = nx.degree_centrality(G)  # ran in 0.0s"
   ]
  },
  {
   "cell_type": "code",
   "execution_count": 8,
   "metadata": {},
   "outputs": [
    {
     "name": "stdout",
     "output_type": "stream",
     "text": [
      "Node: 104, Degree Centrality: 0.2123475847874227\n",
      "Node: 12, Degree Centrality: 0.19363049131221802\n",
      "Node: 87, Degree Centrality: 0.11649254348485266\n",
      "Node: 168, Degree Centrality: 0.10511710817689812\n",
      "Node: 204, Degree Centrality: 0.10272808299105952\n",
      "Node: 131, Degree Centrality: 0.09932831638044307\n",
      "Node: 290, Degree Centrality: 0.09595611544504783\n",
      "Node: 141, Degree Centrality: 0.09249202892558187\n",
      "Node: 495, Degree Centrality: 0.08869715430346133\n",
      "Node: 315, Degree Centrality: 0.08669404857071973\n"
     ]
    }
   ],
   "source": [
    "dc_dict = dict(degree_centrality)\n",
    "sorted_dc = sorted(dc_dict.items(), key=lambda i: i[1], reverse=True)\n",
    "\n",
    "top_10_dc = sorted_dc[:10]\n",
    "for node, centrality in top_10_dc:\n",
    "    print(f'Node: {node}, Degree Centrality: {centrality}')"
   ]
  },
  {
   "cell_type": "code",
   "execution_count": 9,
   "metadata": {},
   "outputs": [
    {
     "name": "stdout",
     "output_type": "stream",
     "text": [
      "---- Users:\n",
      "User: 104, Degree Centrality: 0.2123475847874227\n",
      "User: 12, Degree Centrality: 0.19363049131221802\n",
      "User: 87, Degree Centrality: 0.11649254348485266\n",
      "User: 168, Degree Centrality: 0.10511710817689812\n",
      "User: 204, Degree Centrality: 0.10272808299105952\n",
      "User: 131, Degree Centrality: 0.09932831638044307\n",
      "User: 290, Degree Centrality: 0.09595611544504783\n",
      "User: 141, Degree Centrality: 0.09249202892558187\n",
      "User: 495, Degree Centrality: 0.08869715430346133\n",
      "User: 315, Degree Centrality: 0.08669404857071973\n",
      "---\n",
      "Average User DC: 0.023647588134565432\n",
      "\n",
      "----------------------------------------------------------------\n",
      "\n",
      "---- Movies:\n",
      "Movie: Get Out, Degree Centrality: 0.004676976229199401\n",
      "Movie: Parasite, Degree Centrality: 0.004667787670792329\n",
      "Movie: Knives Out, Degree Centrality: 0.004658599112385258\n",
      "Movie: Lady Bird, Degree Centrality: 0.004410508035394327\n",
      "Movie: The Social Network, Degree Centrality: 0.004401319476987255\n",
      "Movie: Gone Girl, Degree Centrality: 0.0043921309185801834\n",
      "Movie: Midsommar, Degree Centrality: 0.0043921309185801834\n",
      "Movie: Scream, Degree Centrality: 0.0043921309185801834\n",
      "Movie: Once Upon a Time… in Hollywood, Degree Centrality: 0.004373753801766041\n",
      "Movie: The Dark Knight, Degree Centrality: 0.004346188126544826\n",
      "---\n",
      "Average Movie DC: 0.00012165048802542548\n"
     ]
    }
   ],
   "source": [
    "###\n",
    "# User degree centrality analysis\n",
    "# Getting the top 10 users in terms of degree centrality\n",
    "print('---- Users:')\n",
    "user_d_cen = {u:val for u, val in dc_dict.items() if u in users}\n",
    "sorted_udc = sorted(user_d_cen.items(), key=lambda i: i[1], reverse=True)\n",
    "top_10_udc = sorted_udc[:10]\n",
    "for u, centrality in top_10_udc:\n",
    "    print(f'User: {u}, Degree Centrality: {centrality}')\n",
    "\n",
    "# Getting the mean degree centrality of users\n",
    "mean_udc = np.mean(list(user_d_cen.values()))\n",
    "print(f'---\\nAverage User DC: {mean_udc}')\n",
    "\n",
    "print('\\n----------------------------------------------------------------\\n')\n",
    "\n",
    "\n",
    "###\n",
    "# Movie degree centrality analysis\n",
    "# Getting the top 10 movies in terms of degree centrality\n",
    "print('---- Movies:')\n",
    "movie_d_cen = {m:val for m, val in dc_dict.items() if m in movies}\n",
    "sorted_mdc = sorted(movie_d_cen.items(), key=lambda i: i[1], reverse=True)\n",
    "top_10_mdc = sorted_mdc[:10]\n",
    "for m, centrality in top_10_mdc:\n",
    "    print(f'Movie: {m}, Degree Centrality: {centrality}')\n",
    "\n",
    "# Getting the mean degree centrality of users\n",
    "mean_mdc = np.mean(list(movie_d_cen.values()))\n",
    "print(f'---\\nAverage Movie DC: {mean_mdc}')\n"
   ]
  },
  {
   "cell_type": "markdown",
   "metadata": {},
   "source": [
    "##### Betweenness Centrality\n",
    "Users with high betweenness centrality are pivotal in the network, bridging different groups of users and movies. These users can influence the flow of information and recommendations within the network. Similarly, movies with higher betweenness centrality are important connectors within the movie-user network.\n",
    "- Betweenness centrality is much higher in average for users than for movies.\n",
    "    - Users play a more important (central) role in bridging different parts of the network.\n",
    "- Top users: \n",
    "    - Users with high BC are important for the flow of information in the network, they connect isolated parts of the network and act as bridges between clusters of users and movies.\n",
    "    - Average user BC is 40x lower than the top users\n",
    "        - Network as few users that play a critical role in connecting the isolated parts of the graph while most users have a lower bridging effect.\n",
    "    - The users with high BC are likely to be influencial and good points to start information diffusion.\n",
    "- Top movies: \n",
    "    - Movies having a high BC, are important in connecting diverse groups of users together. They may have been rated by a diverse range of users which indicates their appeal to large heterogeneous populations.\n",
    "    - Average movie BC is approximately 90x lower than the top movies\n",
    "        - As usual, the network is composed of few movies that act as bridges to diverse groups of users while most movies are more niche.\n",
    "    - Top BC movies might be useful for increasing engagement for users with low activity (due to their high appeal) and can also help connect diverse groups of users together (can help learn what is liked by diverse audiences)\n",
    "\n",
    "What we could do with this info:\n",
    "- Users: detect influencial users and target them with strategies for recommendations and spreading info of movies.\n",
    "- Movies: detect movies that are central and liked by diverse audiences to: 1) promote those movies to ppl having not watched them. 2) study the properties of those movies to understand what makes a movie being watched by diverse users."
   ]
  },
  {
   "cell_type": "code",
   "execution_count": 10,
   "metadata": {},
   "outputs": [],
   "source": [
    "# Calculate betweenness_centrality\n",
    "# the normal betweenness networkx function on the full dataset takes too long to run -> didn't terminate after an hour\n",
    "# betweenness_centrality = nx.betweenness_centrality(G)\n",
    "\n",
    "# Testing with igraph instead\n",
    "g = ig.Graph.from_networkx(G)\n",
    "\n",
    "b_cen_raw = g.betweenness(directed=False)  # ran in 22m59.7s\n",
    "\n",
    "# Adding normalization factor myself because igraph doesn't implement it in their method\n",
    "n = len(g.vs)\n",
    "if g.is_directed():\n",
    "    normalization_factor = (n - 1) * (n - 2)\n",
    "else:\n",
    "    normalization_factor = (n - 1) * (n - 2) / 2\n",
    "\n",
    "b_cen = [b / normalization_factor for b in b_cen_raw]"
   ]
  },
  {
   "cell_type": "code",
   "execution_count": 11,
   "metadata": {},
   "outputs": [],
   "source": [
    "# Get the list of nodes from the original NetworkX graph\n",
    "nodes = list(G.nodes())\n",
    "\n",
    "# Create a dictionary mapping nodes to their betweenness centrality\n",
    "betweenness_dict = dict(zip(nodes, b_cen))\n",
    "#betweenness_dict"
   ]
  },
  {
   "cell_type": "code",
   "execution_count": 12,
   "metadata": {},
   "outputs": [
    {
     "name": "stdout",
     "output_type": "stream",
     "text": [
      "Node: 104, Betweenness Centrality: 0.13458819821781723\n",
      "Node: 12, Betweenness Centrality: 0.10903536583626044\n",
      "Node: 204, Betweenness Centrality: 0.07238848630367709\n",
      "Node: 87, Betweenness Centrality: 0.05432885897427086\n",
      "Node: 315, Betweenness Centrality: 0.04128666509525295\n",
      "Node: 131, Betweenness Centrality: 0.03289900011918988\n",
      "Node: 509, Betweenness Centrality: 0.029110295415565954\n",
      "Node: 301, Betweenness Centrality: 0.027658090021256534\n",
      "Node: 136, Betweenness Centrality: 0.025889866403294486\n",
      "Node: 168, Betweenness Centrality: 0.022894984876677876\n"
     ]
    }
   ],
   "source": [
    "sorted_bc = sorted(betweenness_dict.items(), key=lambda i: i[1], reverse=True)\n",
    "\n",
    "top_10_bc = sorted_bc[:10]\n",
    "for node, centrality in top_10_bc:\n",
    "    print(f'Node: {node}, Betweenness Centrality: {centrality}')"
   ]
  },
  {
   "cell_type": "code",
   "execution_count": 13,
   "metadata": {},
   "outputs": [
    {
     "name": "stdout",
     "output_type": "stream",
     "text": [
      "---- Users:\n",
      "User: 104, Betweenness Centrality: 0.13458819821781723\n",
      "User: 12, Betweenness Centrality: 0.10903536583626044\n",
      "User: 204, Betweenness Centrality: 0.07238848630367709\n",
      "User: 87, Betweenness Centrality: 0.05432885897427086\n",
      "User: 315, Betweenness Centrality: 0.04128666509525295\n",
      "User: 131, Betweenness Centrality: 0.03289900011918988\n",
      "User: 509, Betweenness Centrality: 0.029110295415565954\n",
      "User: 301, Betweenness Centrality: 0.027658090021256534\n",
      "User: 136, Betweenness Centrality: 0.025889866403294486\n",
      "User: 168, Betweenness Centrality: 0.022894984876677876\n",
      "---\n",
      "Average User BC: 0.0032484874012606987\n",
      "\n",
      "----------------------------------------------------------------\n",
      "\n",
      "---- Movies:\n",
      "Movie: Get Out, Betweenness Centrality: 0.0006172986940887112\n",
      "Movie: Parasite, Betweenness Centrality: 0.0006084787437892438\n",
      "Movie: Scream, Betweenness Centrality: 0.000595259353663621\n",
      "Movie: Knives Out, Betweenness Centrality: 0.0005898394437044395\n",
      "Movie: Pulp Fiction, Betweenness Centrality: 0.0005877140613168992\n",
      "Movie: The Shining, Betweenness Centrality: 0.000584037172499571\n",
      "Movie: Once Upon a Time… in Hollywood, Betweenness Centrality: 0.0005756997444558648\n",
      "Movie: Halloween, Betweenness Centrality: 0.0005713232393808874\n",
      "Movie: Jaws, Betweenness Centrality: 0.0005666802495179468\n",
      "Movie: Home Alone, Betweenness Centrality: 0.0005663751817997174\n",
      "---\n",
      "Average Movie BC: 7.569847641075744e-06\n"
     ]
    }
   ],
   "source": [
    "###\n",
    "# User betweenness analysis\n",
    "# Getting the top 10 users in terms of betweenness centrality\n",
    "print('---- Users:')\n",
    "user_b_cen = {u:val for u, val in betweenness_dict.items() if u in users}\n",
    "sorted_ubc = sorted(user_b_cen.items(), key=lambda i: i[1], reverse=True)\n",
    "top_10_ubc = sorted_ubc[:10]\n",
    "for u, centrality in top_10_ubc:\n",
    "    print(f'User: {u}, Betweenness Centrality: {centrality}')\n",
    "\n",
    "# Getting the mean betweenness centrality of users\n",
    "mean_ubc = np.mean(list(user_b_cen.values()))\n",
    "print(f'---\\nAverage User BC: {mean_ubc}')\n",
    "\n",
    "print('\\n----------------------------------------------------------------\\n')\n",
    "\n",
    "\n",
    "###\n",
    "# Movie betweenness analysis\n",
    "# Getting the top 10 movies in terms of betweenness centrality\n",
    "print('---- Movies:')\n",
    "movie_b_cen = {m:val for m, val in betweenness_dict.items() if m in movies}\n",
    "sorted_mbc = sorted(movie_b_cen.items(), key=lambda i: i[1], reverse=True)\n",
    "top_10_mbc = sorted_mbc[:10]\n",
    "for m, centrality in top_10_mbc:\n",
    "    print(f'Movie: {m}, Betweenness Centrality: {centrality}')\n",
    "\n",
    "# Getting the mean betweenness centrality of users\n",
    "mean_mbc = np.mean(list(movie_b_cen.values()))\n",
    "print(f'---\\nAverage Movie BC: {mean_mbc}')\n"
   ]
  },
  {
   "cell_type": "code",
   "execution_count": 14,
   "metadata": {},
   "outputs": [
    {
     "data": {
      "text/html": [
       "<div>\n",
       "<style scoped>\n",
       "    .dataframe tbody tr th:only-of-type {\n",
       "        vertical-align: middle;\n",
       "    }\n",
       "\n",
       "    .dataframe tbody tr th {\n",
       "        vertical-align: top;\n",
       "    }\n",
       "\n",
       "    .dataframe thead th {\n",
       "        text-align: right;\n",
       "    }\n",
       "</style>\n",
       "<table border=\"1\" class=\"dataframe\">\n",
       "  <thead>\n",
       "    <tr style=\"text-align: right;\">\n",
       "      <th></th>\n",
       "      <th>name</th>\n",
       "      <th>date</th>\n",
       "      <th>minute</th>\n",
       "      <th>mean_rating</th>\n",
       "      <th>genre</th>\n",
       "      <th>country</th>\n",
       "    </tr>\n",
       "  </thead>\n",
       "  <tbody>\n",
       "    <tr>\n",
       "      <th>33194</th>\n",
       "      <td>Get Out</td>\n",
       "      <td>2017.0</td>\n",
       "      <td>104.0</td>\n",
       "      <td>4.16</td>\n",
       "      <td>['Horror', 'Mystery', 'Thriller']</td>\n",
       "      <td>['USA']</td>\n",
       "    </tr>\n",
       "    <tr>\n",
       "      <th>35505</th>\n",
       "      <td>Halloween</td>\n",
       "      <td>1978.0</td>\n",
       "      <td>91.0</td>\n",
       "      <td>3.81</td>\n",
       "      <td>['Horror', 'Thriller']</td>\n",
       "      <td>['USA']</td>\n",
       "    </tr>\n",
       "    <tr>\n",
       "      <th>37925</th>\n",
       "      <td>Home Alone</td>\n",
       "      <td>1990.0</td>\n",
       "      <td>103.0</td>\n",
       "      <td>3.79</td>\n",
       "      <td>['Family', 'Comedy']</td>\n",
       "      <td>['USA']</td>\n",
       "    </tr>\n",
       "    <tr>\n",
       "      <th>42827</th>\n",
       "      <td>Jaws</td>\n",
       "      <td>1975.0</td>\n",
       "      <td>124.0</td>\n",
       "      <td>3.98</td>\n",
       "      <td>['Adventure', 'Thriller', 'Horror']</td>\n",
       "      <td>['USA']</td>\n",
       "    </tr>\n",
       "    <tr>\n",
       "      <th>45710</th>\n",
       "      <td>Knives Out</td>\n",
       "      <td>2019.0</td>\n",
       "      <td>131.0</td>\n",
       "      <td>4.00</td>\n",
       "      <td>['Mystery', 'Comedy', 'Crime']</td>\n",
       "      <td>['USA']</td>\n",
       "    </tr>\n",
       "    <tr>\n",
       "      <th>60365</th>\n",
       "      <td>Once Upon a Time… in Hollywood</td>\n",
       "      <td>2019.0</td>\n",
       "      <td>162.0</td>\n",
       "      <td>3.76</td>\n",
       "      <td>['Drama', 'Comedy', 'Thriller']</td>\n",
       "      <td>['USA', 'UK', 'China']</td>\n",
       "    </tr>\n",
       "    <tr>\n",
       "      <th>62189</th>\n",
       "      <td>Parasite</td>\n",
       "      <td>2019.0</td>\n",
       "      <td>133.0</td>\n",
       "      <td>4.57</td>\n",
       "      <td>['Comedy', 'Thriller', 'Drama']</td>\n",
       "      <td>['South Korea']</td>\n",
       "    </tr>\n",
       "    <tr>\n",
       "      <th>65649</th>\n",
       "      <td>Pulp Fiction</td>\n",
       "      <td>1994.0</td>\n",
       "      <td>154.0</td>\n",
       "      <td>4.27</td>\n",
       "      <td>['Crime', 'Thriller']</td>\n",
       "      <td>['USA']</td>\n",
       "    </tr>\n",
       "    <tr>\n",
       "      <th>71017</th>\n",
       "      <td>Scream</td>\n",
       "      <td>1996.0</td>\n",
       "      <td>112.0</td>\n",
       "      <td>4.02</td>\n",
       "      <td>['Mystery', 'Crime', 'Horror']</td>\n",
       "      <td>['USA']</td>\n",
       "    </tr>\n",
       "    <tr>\n",
       "      <th>93790</th>\n",
       "      <td>The Shining</td>\n",
       "      <td>1980.0</td>\n",
       "      <td>144.0</td>\n",
       "      <td>4.25</td>\n",
       "      <td>['Horror', 'Thriller']</td>\n",
       "      <td>['UK', 'USA']</td>\n",
       "    </tr>\n",
       "  </tbody>\n",
       "</table>\n",
       "</div>"
      ],
      "text/plain": [
       "                                 name    date  minute  mean_rating  \\\n",
       "33194                         Get Out  2017.0   104.0         4.16   \n",
       "35505                       Halloween  1978.0    91.0         3.81   \n",
       "37925                      Home Alone  1990.0   103.0         3.79   \n",
       "42827                            Jaws  1975.0   124.0         3.98   \n",
       "45710                      Knives Out  2019.0   131.0         4.00   \n",
       "60365  Once Upon a Time… in Hollywood  2019.0   162.0         3.76   \n",
       "62189                        Parasite  2019.0   133.0         4.57   \n",
       "65649                    Pulp Fiction  1994.0   154.0         4.27   \n",
       "71017                          Scream  1996.0   112.0         4.02   \n",
       "93790                     The Shining  1980.0   144.0         4.25   \n",
       "\n",
       "                                     genre                 country  \n",
       "33194    ['Horror', 'Mystery', 'Thriller']                 ['USA']  \n",
       "35505               ['Horror', 'Thriller']                 ['USA']  \n",
       "37925                 ['Family', 'Comedy']                 ['USA']  \n",
       "42827  ['Adventure', 'Thriller', 'Horror']                 ['USA']  \n",
       "45710       ['Mystery', 'Comedy', 'Crime']                 ['USA']  \n",
       "60365      ['Drama', 'Comedy', 'Thriller']  ['USA', 'UK', 'China']  \n",
       "62189      ['Comedy', 'Thriller', 'Drama']         ['South Korea']  \n",
       "65649                ['Crime', 'Thriller']                 ['USA']  \n",
       "71017       ['Mystery', 'Crime', 'Horror']                 ['USA']  \n",
       "93790               ['Horror', 'Thriller']           ['UK', 'USA']  "
      ]
     },
     "execution_count": 14,
     "metadata": {},
     "output_type": "execute_result"
    }
   ],
   "source": [
    "# Print augmented values from top 10 BC movies\n",
    "\n",
    "top_10_mbc_names = [mbc[0] for mbc in top_10_mbc]\n",
    "top_10_mbc_movies = augm_movies[augm_movies['name'].isin(top_10_mbc_names)]\n",
    "top_10_mbc_movies"
   ]
  },
  {
   "cell_type": "code",
   "execution_count": 52,
   "metadata": {},
   "outputs": [
    {
     "name": "stderr",
     "output_type": "stream",
     "text": [
      "/var/folders/cn/y25xsbv958l23zthfbpz34qc0000gn/T/ipykernel_8027/4276301172.py:13: SettingWithCopyWarning: \n",
      "A value is trying to be set on a copy of a slice from a DataFrame.\n",
      "Try using .loc[row_indexer,col_indexer] = value instead\n",
      "\n",
      "See the caveats in the documentation: https://pandas.pydata.org/pandas-docs/stable/user_guide/indexing.html#returning-a-view-versus-a-copy\n",
      "  top_10_mbc_movies['genre'] = top_10_mbc_movies['genre'].apply(convert_to_list)\n",
      "/var/folders/cn/y25xsbv958l23zthfbpz34qc0000gn/T/ipykernel_8027/4276301172.py:14: SettingWithCopyWarning: \n",
      "A value is trying to be set on a copy of a slice from a DataFrame.\n",
      "Try using .loc[row_indexer,col_indexer] = value instead\n",
      "\n",
      "See the caveats in the documentation: https://pandas.pydata.org/pandas-docs/stable/user_guide/indexing.html#returning-a-view-versus-a-copy\n",
      "  top_10_mbc_movies['country'] = top_10_mbc_movies['country'].apply(convert_to_list)\n"
     ]
    }
   ],
   "source": [
    "# Plot the distribution of genres and countries\n",
    "import ast\n",
    "\n",
    "def convert_to_list(s):\n",
    "    return ast.literal_eval(s)\n",
    "\n",
    "\n",
    "top_10_mbc_movies['genre'] = top_10_mbc_movies['genre'].apply(convert_to_list)\n",
    "top_10_mbc_movies['country'] = top_10_mbc_movies['country'].apply(convert_to_list)"
   ]
  },
  {
   "cell_type": "code",
   "execution_count": 73,
   "metadata": {},
   "outputs": [],
   "source": [
    "augm_counts_mbc = {\n",
    "    'genres': [],\n",
    "    'countries': []\n",
    "}\n",
    "\n",
    "for i, row in top_10_mbc_movies.iterrows():\n",
    "\n",
    "    genres = row['genre']\n",
    "    for g in genres: augm_counts_mbc['genres'].append(g)\n",
    "    \n",
    "    countries = row['country']\n",
    "    for c in countries: augm_counts_mbc['countries'].append(c)"
   ]
  },
  {
   "cell_type": "code",
   "execution_count": 78,
   "metadata": {},
   "outputs": [
    {
     "data": {
      "image/png": "[encoded data removed]",
      "text/plain": [
       "<Figure size 1000x500 with 1 Axes>"
      ]
     },
     "metadata": {},
     "output_type": "display_data"
    },
    {
     "data": {
      "image/png": "[encoded data removed]",
      "text/plain": [
       "<Figure size 1000x500 with 1 Axes>"
      ]
     },
     "metadata": {},
     "output_type": "display_data"
    }
   ],
   "source": [
    "from collections import Counter\n",
    "\n",
    "# Count occurrences of each genre and sort by genre name\n",
    "genre_counts = dict(Counter(augm_counts_mbc['genres']))\n",
    "sorted_genres = sorted(genre_counts.items(), key=lambda x: x[1])\n",
    "\n",
    "# Count occurrences of each country and sort by country name\n",
    "country_counts = dict(Counter(augm_counts_mbc['countries']))\n",
    "sorted_countries = sorted(country_counts.items(), key=lambda x: x[1])\n",
    "\n",
    "# Separate keys and values for plotting\n",
    "genres, genre_counts = zip(*sorted_genres)\n",
    "countries, country_counts = zip(*sorted_countries)\n",
    "\n",
    "# Create the genre histogram\n",
    "plt.figure(figsize=(10, 5))\n",
    "sns.barplot(x=list(genres), y=list(genre_counts))\n",
    "plt.title('Distribution of Genres')\n",
    "plt.xlabel('Genres')\n",
    "plt.ylabel('Count')\n",
    "plt.xticks(rotation=45)\n",
    "plt.show()\n",
    "\n",
    "# Create the country histogram\n",
    "plt.figure(figsize=(10, 5))\n",
    "sns.barplot(x=list(countries), y=list(country_counts))\n",
    "plt.title('Distribution of Countries')\n",
    "plt.xlabel('Countries')\n",
    "plt.ylabel('Count')\n",
    "plt.xticks(rotation=45)\n",
    "plt.show()\n"
   ]
  },
  {
   "cell_type": "markdown",
   "metadata": {},
   "source": [
    "#### **Similarity** Measures\n",
    "- **Jaccard** similarity: Similarity without taking ratings into account."
   ]
  },
  {
   "cell_type": "code",
   "execution_count": 16,
   "metadata": {},
   "outputs": [],
   "source": [
    "# Jaccard similarity"
   ]
  }
 ],
 "metadata": {
  "kernelspec": {
   "display_name": ".venv",
   "language": "python",
   "name": "python3"
  },
  "language_info": {
   "codemirror_mode": {
    "name": "ipython",
    "version": 3
   },
   "file_extension": ".py",
   "mimetype": "text/x-python",
   "name": "python",
   "nbconvert_exporter": "python",
   "pygments_lexer": "ipython3",
   "version": "3.11.8"
  }
 },
 "nbformat": 4,
 "nbformat_minor": 2
}
