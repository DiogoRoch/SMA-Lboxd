{
 "cells": [
  {
   "cell_type": "markdown",
   "metadata": {},
   "source": [
    "### This notebook is for getting the results for the whole dataset from comparison algorithms. It takes about a minute- a minute and a half to run if scikit-network is already installed."
   ]
  },
  {
   "cell_type": "code",
   "execution_count": 1,
   "metadata": {
    "scrolled": true
   },
   "outputs": [
    {
     "name": "stdout",
     "output_type": "stream",
     "text": [
      "Requirement already satisfied: scikit-network in c:\\users\\zeynep sema\\anaconda3\\lib\\site-packages (0.32.1)\n",
      "Requirement already satisfied: numpy>=1.22.4 in c:\\users\\zeynep sema\\appdata\\roaming\\python\\python38\\site-packages (from scikit-network) (1.24.4)\n",
      "Requirement already satisfied: scipy>=1.7.3 in c:\\users\\zeynep sema\\anaconda3\\lib\\site-packages (from scikit-network) (1.10.1)\n"
     ]
    }
   ],
   "source": [
    "!pip install scikit-network"
   ]
  },
  {
   "cell_type": "code",
   "execution_count": 2,
   "metadata": {},
   "outputs": [],
   "source": [
    "import pandas as pd  \n",
    "from sknetwork.data import from_edge_list\n",
    "  \n",
    "df = pd.read_csv('clean_letterboxd.csv') \n",
    " \n",
    "df_new = df.drop('rating', axis=1)"
   ]
  },
  {
   "cell_type": "code",
   "execution_count": 3,
   "metadata": {},
   "outputs": [
    {
     "name": "stdout",
     "output_type": "stream",
     "text": [
      "execution time for bilouvain: 11.88474416732788\n"
     ]
    }
   ],
   "source": [
    "from IPython.display import SVG\n",
    "import numpy as np\n",
    "from sknetwork.clustering import Louvain, get_modularity\n",
    "from sknetwork.linalg import normalize\n",
    "from sknetwork.utils import get_membership\n",
    "from scipy import sparse\n",
    "\n",
    "from sknetwork.visualization import visualize_bigraph\n",
    "\n",
    "import time\n",
    "\n",
    "start_time = time.time()\n",
    "\n",
    "edge_list = list(df_new.itertuples(index=False))\n",
    "graph = from_edge_list(edge_list, bipartite=True)\n",
    "\n",
    "biadjacency = graph.biadjacency\n",
    "names_row = graph.names_row\n",
    "names_col = graph.names_col\n",
    "\n",
    "# clustering using bilouvain\n",
    "louvain = Louvain()\n",
    "louvain.fit(biadjacency)\n",
    "labels_row = louvain.labels_row_\n",
    "labels_col = louvain.labels_col_\n",
    "\n",
    "end_time = time.time()\n",
    "ex_time = end_time - start_time\n",
    "print(f\"execution time for bilouvain: {ex_time}\")"
   ]
  },
  {
   "cell_type": "code",
   "execution_count": 4,
   "metadata": {},
   "outputs": [
    {
     "name": "stdout",
     "output_type": "stream",
     "text": [
      "modularity for bilouvain: 0.23842765617764183\n"
     ]
    }
   ],
   "source": [
    "modularity_bilouvain = get_modularity(biadjacency, labels_row, labels_col)\n",
    "print(f\"modularity for bilouvain: {modularity_bilouvain}\") # barber's modularity by default"
   ]
  },
  {
   "cell_type": "code",
   "execution_count": 5,
   "metadata": {
    "scrolled": false
   },
   "outputs": [
    {
     "data": {
      "image/svg+xml": [
       "<svg xmlns=\"http://www.w3.org/2000/svg\" width=\"488.0\" height=\"340\">\n",
       "<path stroke-width=\"0.5599439468904616\" stroke=\"black\" d=\"M 38 320 438 148\"/>\n",
       "<path stroke-width=\"0.5062720506878771\" stroke=\"black\" d=\"M 38 148 438 62\"/>\n",
       "<path stroke-width=\"0.5072636792551304\" stroke=\"black\" d=\"M 38 148 438 191\"/>\n",
       "<path stroke-width=\"0.6663704828709213\" stroke=\"black\" d=\"M 38 148 438 234\"/>\n",
       "<path stroke-width=\"0.6486451222312687\" stroke=\"black\" d=\"M 38 148 438 320\"/>\n",
       "<path stroke-width=\"0.6225405001983257\" stroke=\"black\" d=\"M 38 148 438 277\"/>\n",
       "<path stroke-width=\"0.6523637293584685\" stroke=\"black\" d=\"M 38 148 438 148\"/>\n",
       "<path stroke-width=\"0.5023055364188639\" stroke=\"black\" d=\"M 38 105 438 191\"/>\n",
       "<path stroke-width=\"0.5030244671301225\" stroke=\"black\" d=\"M 38 105 438 20\"/>\n",
       "<path stroke-width=\"0.5015370242792426\" stroke=\"black\" d=\"M 38 105 438 148\"/>\n",
       "<path stroke-width=\"0.5013634892799733\" stroke=\"black\" d=\"M 38 105 438 62\"/>\n",
       "<path stroke-width=\"0.5835199160769087\" stroke=\"black\" d=\"M 38 105 438 320\"/>\n",
       "<path stroke-width=\"0.6394477672699943\" stroke=\"black\" d=\"M 38 105 438 105\"/>\n",
       "<path stroke-width=\"0.6819886328051606\" stroke=\"black\" d=\"M 38 105 438 234\"/>\n",
       "<path stroke-width=\"0.5020080478486879\" stroke=\"black\" d=\"M 38 148 438 20\"/>\n",
       "<path stroke-width=\"0.5463586355190915\" stroke=\"black\" d=\"M 38 105 438 277\"/>\n",
       "<path stroke-width=\"0.5022807457046826\" stroke=\"black\" d=\"M 38 62 438 148\"/>\n",
       "<path stroke-width=\"0.5060489342602451\" stroke=\"black\" d=\"M 38 62 438 191\"/>\n",
       "<path stroke-width=\"0.5022063735621386\" stroke=\"black\" d=\"M 38 62 438 105\"/>\n",
       "<path stroke-width=\"0.6609908978935721\" stroke=\"black\" d=\"M 38 62 438 320\"/>\n",
       "<path stroke-width=\"0.8514827456629298\" stroke=\"black\" d=\"M 38 62 438 234\"/>\n",
       "<path stroke-width=\"0.6026831381390785\" stroke=\"black\" d=\"M 38 62 438 277\"/>\n",
       "<path stroke-width=\"0.6107153295338302\" stroke=\"black\" d=\"M 38 62 438 62\"/>\n",
       "<path stroke-width=\"0.5\" stroke=\"black\" d=\"M 38 20 438 148\"/>\n",
       "<path stroke-width=\"0.5007685121396213\" stroke=\"black\" d=\"M 38 20 438 191\"/>\n",
       "<path stroke-width=\"0.500966837853072\" stroke=\"black\" d=\"M 38 20 438 62\"/>\n",
       "<path stroke-width=\"0.5013139078516106\" stroke=\"black\" d=\"M 38 20 438 105\"/>\n",
       "<path stroke-width=\"0.5868914532055698\" stroke=\"black\" d=\"M 38 20 438 320\"/>\n",
       "<path stroke-width=\"0.5364175591323772\" stroke=\"black\" d=\"M 38 20 438 277\"/>\n",
       "<path stroke-width=\"0.5038673514122879\" stroke=\"black\" d=\"M 38 62 438 20\"/>\n",
       "<path stroke-width=\"0.5030740485584853\" stroke=\"black\" d=\"M 38 148 438 105\"/>\n",
       "<path stroke-width=\"0.723413916202167\" stroke=\"black\" d=\"M 38 191 438 191\"/>\n",
       "<path stroke-width=\"0.6793112356735768\" stroke=\"black\" d=\"M 38 191 438 277\"/>\n",
       "<path stroke-width=\"0.5589771090373896\" stroke=\"black\" d=\"M 38 320 438 20\"/>\n",
       "<path stroke-width=\"0.6381586501325651\" stroke=\"black\" d=\"M 38 320 438 191\"/>\n",
       "<path stroke-width=\"0.56624078829252\" stroke=\"black\" d=\"M 38 320 438 105\"/>\n",
       "<path stroke-width=\"4.227754900732761\" stroke=\"black\" d=\"M 38 320 438 234\"/>\n",
       "<path stroke-width=\"2.259396985449156\" stroke=\"black\" d=\"M 38 320 438 277\"/>\n",
       "<path stroke-width=\"0.5667861840045093\" stroke=\"black\" d=\"M 38 320 438 62\"/>\n",
       "<path stroke-width=\"6.5973009436128685\" stroke=\"black\" d=\"M 38 320 438 320\"/>\n",
       "<path stroke-width=\"0.5448216112398488\" stroke=\"black\" d=\"M 38 277 438 62\"/>\n",
       "<path stroke-width=\"0.5256335984634977\" stroke=\"black\" d=\"M 38 277 438 148\"/>\n",
       "<path stroke-width=\"0.5472758919438008\" stroke=\"black\" d=\"M 38 277 438 191\"/>\n",
       "<path stroke-width=\"0.5243444813260684\" stroke=\"black\" d=\"M 38 277 438 105\"/>\n",
       "<path stroke-width=\"2.00214374438947\" stroke=\"black\" d=\"M 38 277 438 320\"/>\n",
       "<path stroke-width=\"0.5256583891776789\" stroke=\"black\" d=\"M 38 277 438 20\"/>\n",
       "<path stroke-width=\"2.9400012525834534\" stroke=\"black\" d=\"M 38 277 438 234\"/>\n",
       "<path stroke-width=\"3.8133285317634287\" stroke=\"black\" d=\"M 38 277 438 277\"/>\n",
       "<path stroke-width=\"0.5264516920314816\" stroke=\"black\" d=\"M 38 234 438 148\"/>\n",
       "<path stroke-width=\"0.5621007390242375\" stroke=\"black\" d=\"M 38 234 438 191\"/>\n",
       "<path stroke-width=\"0.5289555541637961\" stroke=\"black\" d=\"M 38 234 438 105\"/>\n",
       "<path stroke-width=\"2.2797005803636665\" stroke=\"black\" d=\"M 38 234 438 320\"/>\n",
       "<path stroke-width=\"0.550944917642638\" stroke=\"black\" d=\"M 38 234 438 20\"/>\n",
       "<path stroke-width=\"1.7695820546543914\" stroke=\"black\" d=\"M 38 234 438 277\"/>\n",
       "<path stroke-width=\"0.5652987411536293\" stroke=\"black\" d=\"M 38 234 438 62\"/>\n",
       "<path stroke-width=\"10.0\" stroke=\"black\" d=\"M 38 234 438 234\"/>\n",
       "<path stroke-width=\"0.5035946535562932\" stroke=\"black\" d=\"M 38 191 438 148\"/>\n",
       "<path stroke-width=\"0.5064455856871464\" stroke=\"black\" d=\"M 38 191 438 105\"/>\n",
       "<path stroke-width=\"0.5070405628274984\" stroke=\"black\" d=\"M 38 191 438 20\"/>\n",
       "<path stroke-width=\"0.5066439114005971\" stroke=\"black\" d=\"M 38 191 438 62\"/>\n",
       "<path stroke-width=\"0.8764222041293501\" stroke=\"black\" d=\"M 38 191 438 234\"/>\n",
       "<path stroke-width=\"0.8368066428675811\" stroke=\"black\" d=\"M 38 191 438 320\"/>\n",
       "<path stroke-width=\"0.5788840525249995\" stroke=\"black\" d=\"M 38 20 438 20\"/>\n",
       "<path stroke-width=\"0.6999866913008079\" stroke=\"black\" d=\"M 38 20 438 234\"/>\n",
       "<circle cx=\"38\" cy=\"320\" r=\"1.0510168564467206\" style=\"fill:blue;stroke:black;stroke-width:1.0\"/>\n",
       "<circle cx=\"38\" cy=\"277\" r=\"1.0368455074337428\" style=\"fill:red;stroke:black;stroke-width:1.0\"/>\n",
       "<circle cx=\"38\" cy=\"234\" r=\"1.1558848391427576\" style=\"fill:green;stroke:black;stroke-width:1.0\"/>\n",
       "<circle cx=\"38\" cy=\"191\" r=\"1.0056685396051912\" style=\"fill:orange;stroke:black;stroke-width:1.0\"/>\n",
       "<circle cx=\"38\" cy=\"148\" r=\"1.0018895132017305\" style=\"fill:purple;stroke:black;stroke-width:1.0\"/>\n",
       "<circle cx=\"38\" cy=\"105\" r=\"1.0028342698025956\" style=\"fill:yellow;stroke:black;stroke-width:1.0\"/>\n",
       "<circle cx=\"38\" cy=\"62\" r=\"1.0042514047038933\" style=\"fill:fuchsia;stroke:black;stroke-width:1.0\"/>\n",
       "<circle cx=\"38\" cy=\"20\" r=\"1.004723783004326\" style=\"fill:olive;stroke:black;stroke-width:1.0\"/>\n",
       "<circle cx=\"438\" cy=\"320\" r=\"20.0\" style=\"fill:blue;stroke:black;stroke-width:1.0\"/>\n",
       "<circle cx=\"438\" cy=\"277\" r=\"14.891701059121873\" style=\"fill:red;stroke:black;stroke-width:1.0\"/>\n",
       "<circle cx=\"438\" cy=\"234\" r=\"8.504201680672269\" style=\"fill:green;stroke:black;stroke-width:1.0\"/>\n",
       "<circle cx=\"438\" cy=\"191\" r=\"4.404430411217742\" style=\"fill:orange;stroke:black;stroke-width:1.0\"/>\n",
       "<circle cx=\"438\" cy=\"148\" r=\"3.747352195315996\" style=\"fill:purple;stroke:black;stroke-width:1.0\"/>\n",
       "<circle cx=\"438\" cy=\"105\" r=\"2.7156779871712\" style=\"fill:yellow;stroke:black;stroke-width:1.0\"/>\n",
       "<circle cx=\"438\" cy=\"62\" r=\"2.616478544080354\" style=\"fill:fuchsia;stroke:black;stroke-width:1.0\"/>\n",
       "<circle cx=\"438\" cy=\"20\" r=\"2.2669186017602305\" style=\"fill:olive;stroke:black;stroke-width:1.0\"/>\n",
       "<text text-anchor=\"end\" x=\"33\" y=\"320\" font-size=\"12\">108</text><text text-anchor=\"end\" x=\"33\" y=\"277\" font-size=\"12\">78</text><text text-anchor=\"end\" x=\"33\" y=\"234\" font-size=\"12\">330</text><text text-anchor=\"end\" x=\"33\" y=\"191\" font-size=\"12\">12</text><text text-anchor=\"end\" x=\"33\" y=\"148\" font-size=\"12\">4</text><text text-anchor=\"end\" x=\"33\" y=\"105\" font-size=\"12\">6</text><text text-anchor=\"end\" x=\"33\" y=\"62\" font-size=\"12\">9</text><text text-anchor=\"end\" x=\"33\" y=\"20\" font-size=\"12\">10</text><text text-anchor=\"start\" x=\"461\" y=\"320\" font-size=\"12\">40222</text><text text-anchor=\"start\" x=\"455\" y=\"277\" font-size=\"12\">29408</text><text text-anchor=\"start\" x=\"449\" y=\"234\" font-size=\"12\">15886</text><text text-anchor=\"start\" x=\"445\" y=\"191\" font-size=\"12\">7207</text><text text-anchor=\"start\" x=\"444\" y=\"148\" font-size=\"12\">5816</text><text text-anchor=\"start\" x=\"443\" y=\"105\" font-size=\"12\">3632</text><text text-anchor=\"start\" x=\"443\" y=\"62\" font-size=\"12\">3422</text><text text-anchor=\"start\" x=\"443\" y=\"20\" font-size=\"12\">2682</text></svg>"
      ],
      "text/plain": [
       "<IPython.core.display.SVG object>"
      ]
     },
     "execution_count": 5,
     "metadata": {},
     "output_type": "execute_result"
    }
   ],
   "source": [
    "# aggregate graph\n",
    "biadjacency_aggregate = louvain.aggregate_\n",
    "labels_unique_row, counts_row = np.unique(labels_row, return_counts=True)\n",
    "labels_unique_col, counts_col = np.unique(labels_col, return_counts=True)\n",
    "\n",
    "image = visualize_bigraph(biadjacency_aggregate, counts_row, counts_col, labels_unique_row, labels_unique_col,\n",
    "                    display_node_weight=True, node_weights_row=counts_row, node_weights_col=counts_col)\n",
    "SVG(image)"
   ]
  },
  {
   "cell_type": "code",
   "execution_count": 6,
   "metadata": {},
   "outputs": [
    {
     "name": "stdout",
     "output_type": "stream",
     "text": [
      "557\n"
     ]
    }
   ],
   "source": [
    "print(len(labels_row)) # total number of users"
   ]
  },
  {
   "cell_type": "code",
   "execution_count": 7,
   "metadata": {},
   "outputs": [
    {
     "data": {
      "text/plain": [
       "108275"
      ]
     },
     "execution_count": 7,
     "metadata": {},
     "output_type": "execute_result"
    }
   ],
   "source": [
    "len(labels_col) # total number of movies"
   ]
  },
  {
   "cell_type": "code",
   "execution_count": 8,
   "metadata": {
    "scrolled": false
   },
   "outputs": [
    {
     "data": {
      "text/plain": [
       "8"
      ]
     },
     "execution_count": 8,
     "metadata": {},
     "output_type": "execute_result"
    }
   ],
   "source": [
    "len(set(labels_col)) # number of communities"
   ]
  },
  {
   "cell_type": "code",
   "execution_count": 9,
   "metadata": {},
   "outputs": [
    {
     "name": "stdout",
     "output_type": "stream",
     "text": [
      "execution time for Leiden: 13.46578073501587\n"
     ]
    }
   ],
   "source": [
    "from sknetwork.clustering import Leiden\n",
    "\n",
    "start_time = time.time()\n",
    "\n",
    "edge_list = list(df_new.itertuples(index=False))\n",
    "graph = from_edge_list(edge_list, bipartite=True)\n",
    "\n",
    "biadjacency = graph.biadjacency\n",
    "names_row = graph.names_row\n",
    "names_col = graph.names_col\n",
    "\n",
    "# clustering using Leiden\n",
    "leiden = Leiden()\n",
    "leiden.fit(biadjacency)\n",
    "labels_row = leiden.labels_row_\n",
    "labels_col = leiden.labels_col_\n",
    "\n",
    "end_time = time.time()\n",
    "ex_time = end_time - start_time\n",
    "print(f\"execution time for Leiden: {ex_time}\")"
   ]
  },
  {
   "cell_type": "code",
   "execution_count": 17,
   "metadata": {},
   "outputs": [
    {
     "name": "stdout",
     "output_type": "stream",
     "text": [
      "modularity for leiden: 0.23859847808338286\n"
     ]
    }
   ],
   "source": [
    "modularity_leiden = get_modularity(biadjacency, labels_row, labels_col)\n",
    "print(f\"modularity for leiden: {modularity_leiden}\") # barber's modularity by default"
   ]
  },
  {
   "cell_type": "code",
   "execution_count": 11,
   "metadata": {},
   "outputs": [
    {
     "data": {
      "image/svg+xml": [
       "<svg xmlns=\"http://www.w3.org/2000/svg\" width=\"488.0\" height=\"340\">\n",
       "<path stroke-width=\"0.5673681860346436\" stroke=\"black\" d=\"M 38 320 438 132\"/>\n",
       "<path stroke-width=\"0.5016412788951469\" stroke=\"black\" d=\"M 38 95 438 132\"/>\n",
       "<path stroke-width=\"0.5029795524558051\" stroke=\"black\" d=\"M 38 95 438 57\"/>\n",
       "<path stroke-width=\"0.5008332646698438\" stroke=\"black\" d=\"M 38 95 438 20\"/>\n",
       "<path stroke-width=\"0.5019190337850948\" stroke=\"black\" d=\"M 38 95 438 207\"/>\n",
       "<path stroke-width=\"0.6608705821689335\" stroke=\"black\" d=\"M 38 132 438 132\"/>\n",
       "<path stroke-width=\"0.6278177502651296\" stroke=\"black\" d=\"M 38 132 438 282\"/>\n",
       "<path stroke-width=\"0.6556437401490042\" stroke=\"black\" d=\"M 38 132 438 320\"/>\n",
       "<path stroke-width=\"0.5017675311178504\" stroke=\"black\" d=\"M 38 95 438 170\"/>\n",
       "<path stroke-width=\"0.6808689342451845\" stroke=\"black\" d=\"M 38 132 438 245\"/>\n",
       "<path stroke-width=\"0.5110849451533765\" stroke=\"black\" d=\"M 38 132 438 170\"/>\n",
       "<path stroke-width=\"0.5019442842296356\" stroke=\"black\" d=\"M 38 132 438 57\"/>\n",
       "<path stroke-width=\"0.505883353577988\" stroke=\"black\" d=\"M 38 132 438 207\"/>\n",
       "<path stroke-width=\"0.5030300533448865\" stroke=\"black\" d=\"M 38 132 438 95\"/>\n",
       "<path stroke-width=\"0.7203858799514128\" stroke=\"black\" d=\"M 38 170 438 170\"/>\n",
       "<path stroke-width=\"0.6811719395796731\" stroke=\"black\" d=\"M 38 170 438 282\"/>\n",
       "<path stroke-width=\"1.0590953430206442\" stroke=\"black\" d=\"M 38 170 438 245\"/>\n",
       "<path stroke-width=\"0.5027775488994793\" stroke=\"black\" d=\"M 38 132 438 20\"/>\n",
       "<path stroke-width=\"0.5843112343214674\" stroke=\"black\" d=\"M 38 95 438 320\"/>\n",
       "<path stroke-width=\"0.6419327487633927\" stroke=\"black\" d=\"M 38 95 438 95\"/>\n",
       "<path stroke-width=\"0.6848585044826184\" stroke=\"black\" d=\"M 38 95 438 245\"/>\n",
       "<path stroke-width=\"0.5421429919384634\" stroke=\"black\" d=\"M 38 20 438 20\"/>\n",
       "<path stroke-width=\"0.5720900191637585\" stroke=\"black\" d=\"M 38 20 438 320\"/>\n",
       "<path stroke-width=\"0.5014897762279026\" stroke=\"black\" d=\"M 38 20 438 57\"/>\n",
       "<path stroke-width=\"0.5019442842296356\" stroke=\"black\" d=\"M 38 20 438 207\"/>\n",
       "<path stroke-width=\"0.5010100177816288\" stroke=\"black\" d=\"M 38 20 438 95\"/>\n",
       "<path stroke-width=\"0.5013887744497396\" stroke=\"black\" d=\"M 38 20 438 170\"/>\n",
       "<path stroke-width=\"0.5011110195597918\" stroke=\"black\" d=\"M 38 20 438 132\"/>\n",
       "<path stroke-width=\"0.7035943343318334\" stroke=\"black\" d=\"M 38 57 438 245\"/>\n",
       "<path stroke-width=\"0.5802459127504114\" stroke=\"black\" d=\"M 38 57 438 57\"/>\n",
       "<path stroke-width=\"0.5368908994739934\" stroke=\"black\" d=\"M 38 57 438 282\"/>\n",
       "<path stroke-width=\"0.5875937921117611\" stroke=\"black\" d=\"M 38 57 438 320\"/>\n",
       "<path stroke-width=\"0.5012372717824953\" stroke=\"black\" d=\"M 38 57 438 95\"/>\n",
       "<path stroke-width=\"0.5008837655589252\" stroke=\"black\" d=\"M 38 57 438 170\"/>\n",
       "<path stroke-width=\"0.5011362700043325\" stroke=\"black\" d=\"M 38 57 438 207\"/>\n",
       "<path stroke-width=\"0.5002020035563257\" stroke=\"black\" d=\"M 38 57 438 20\"/>\n",
       "<path stroke-width=\"0.5\" stroke=\"black\" d=\"M 38 57 438 132\"/>\n",
       "<path stroke-width=\"0.5468648250675782\" stroke=\"black\" d=\"M 38 95 438 282\"/>\n",
       "<path stroke-width=\"0.7071041461229935\" stroke=\"black\" d=\"M 38 170 438 320\"/>\n",
       "<path stroke-width=\"0.6032490677270081\" stroke=\"black\" d=\"M 38 20 438 245\"/>\n",
       "<path stroke-width=\"0.5055803482434993\" stroke=\"black\" d=\"M 38 170 438 95\"/>\n",
       "<path stroke-width=\"0.5042925755719225\" stroke=\"black\" d=\"M 38 170 438 20\"/>\n",
       "<path stroke-width=\"2.872658021268848\" stroke=\"black\" d=\"M 38 282 438 245\"/>\n",
       "<path stroke-width=\"0.5250484409843952\" stroke=\"black\" d=\"M 38 282 438 57\"/>\n",
       "<path stroke-width=\"0.550500889081442\" stroke=\"black\" d=\"M 38 282 438 207\"/>\n",
       "<path stroke-width=\"1.9756864798488163\" stroke=\"black\" d=\"M 38 282 438 320\"/>\n",
       "<path stroke-width=\"0.5547934646533645\" stroke=\"black\" d=\"M 38 282 438 170\"/>\n",
       "<path stroke-width=\"0.5168925473977424\" stroke=\"black\" d=\"M 38 282 438 20\"/>\n",
       "<path stroke-width=\"0.5282552474410668\" stroke=\"black\" d=\"M 38 282 438 132\"/>\n",
       "<path stroke-width=\"3.743848858812804\" stroke=\"black\" d=\"M 38 282 438 282\"/>\n",
       "<path stroke-width=\"0.5229274036429746\" stroke=\"black\" d=\"M 38 282 438 95\"/>\n",
       "<path stroke-width=\"0.5921893730181723\" stroke=\"black\" d=\"M 38 320 438 170\"/>\n",
       "<path stroke-width=\"2.2379628472932853\" stroke=\"black\" d=\"M 38 320 438 282\"/>\n",
       "<path stroke-width=\"4.177600995133309\" stroke=\"black\" d=\"M 38 320 438 245\"/>\n",
       "<path stroke-width=\"0.5654744026940896\" stroke=\"black\" d=\"M 38 320 438 95\"/>\n",
       "<path stroke-width=\"0.6535479532521243\" stroke=\"black\" d=\"M 38 320 438 207\"/>\n",
       "<path stroke-width=\"0.5395926970398505\" stroke=\"black\" d=\"M 38 320 438 20\"/>\n",
       "<path stroke-width=\"0.5582527755554433\" stroke=\"black\" d=\"M 38 320 438 57\"/>\n",
       "<path stroke-width=\"6.466074034303394\" stroke=\"black\" d=\"M 38 320 438 320\"/>\n",
       "<path stroke-width=\"0.5311085476741683\" stroke=\"black\" d=\"M 38 245 438 132\"/>\n",
       "<path stroke-width=\"0.5567882497720815\" stroke=\"black\" d=\"M 38 245 438 207\"/>\n",
       "<path stroke-width=\"0.525528199430669\" stroke=\"black\" d=\"M 38 245 438 20\"/>\n",
       "<path stroke-width=\"0.5054540960207957\" stroke=\"black\" d=\"M 38 170 438 132\"/>\n",
       "<path stroke-width=\"0.5070448740268612\" stroke=\"black\" d=\"M 38 170 438 57\"/>\n",
       "<path stroke-width=\"0.7788911599522634\" stroke=\"black\" d=\"M 38 207 438 207\"/>\n",
       "<path stroke-width=\"0.6751875842235222\" stroke=\"black\" d=\"M 38 207 438 282\"/>\n",
       "<path stroke-width=\"0.5090649095901189\" stroke=\"black\" d=\"M 38 207 438 170\"/>\n",
       "<path stroke-width=\"0.8613591118222581\" stroke=\"black\" d=\"M 38 207 438 320\"/>\n",
       "<path stroke-width=\"0.8829482419045747\" stroke=\"black\" d=\"M 38 207 438 245\"/>\n",
       "<path stroke-width=\"0.5071963766941054\" stroke=\"black\" d=\"M 38 207 438 95\"/>\n",
       "<path stroke-width=\"0.507145875805024\" stroke=\"black\" d=\"M 38 207 438 57\"/>\n",
       "<path stroke-width=\"0.5048985862408999\" stroke=\"black\" d=\"M 38 207 438 20\"/>\n",
       "<path stroke-width=\"0.5031815560121309\" stroke=\"black\" d=\"M 38 207 438 132\"/>\n",
       "<path stroke-width=\"10.0\" stroke=\"black\" d=\"M 38 245 438 245\"/>\n",
       "<path stroke-width=\"0.5875685416672204\" stroke=\"black\" d=\"M 38 245 438 170\"/>\n",
       "<path stroke-width=\"1.7614617083653394\" stroke=\"black\" d=\"M 38 245 438 282\"/>\n",
       "<path stroke-width=\"0.5495666226334353\" stroke=\"black\" d=\"M 38 245 438 57\"/>\n",
       "<path stroke-width=\"2.2689703931892904\" stroke=\"black\" d=\"M 38 245 438 320\"/>\n",
       "<path stroke-width=\"0.5277249881057117\" stroke=\"black\" d=\"M 38 245 438 95\"/>\n",
       "<path stroke-width=\"0.5115647035996502\" stroke=\"black\" d=\"M 38 170 438 207\"/>\n",
       "<path stroke-width=\"0.5417894857148933\" stroke=\"black\" d=\"M 38 20 438 282\"/>\n",
       "<circle cx=\"38\" cy=\"320\" r=\"1.0516263486954915\" style=\"fill:blue;stroke:black;stroke-width:1.0\"/>\n",
       "<circle cx=\"38\" cy=\"282\" r=\"1.0380932281636637\" style=\"fill:red;stroke:black;stroke-width:1.0\"/>\n",
       "<circle cx=\"38\" cy=\"245\" r=\"1.1644023531273908\" style=\"fill:green;stroke:black;stroke-width:1.0\"/>\n",
       "<circle cx=\"38\" cy=\"207\" r=\"1.006515946922732\" style=\"fill:orange;stroke:black;stroke-width:1.0\"/>\n",
       "<circle cx=\"38\" cy=\"170\" r=\"1.0060147202363678\" style=\"fill:purple;stroke:black;stroke-width:1.0\"/>\n",
       "<circle cx=\"38\" cy=\"132\" r=\"1.00250613343182\" style=\"fill:yellow;stroke:black;stroke-width:1.0\"/>\n",
       "<circle cx=\"38\" cy=\"95\" r=\"1.003007360118184\" style=\"fill:fuchsia;stroke:black;stroke-width:1.0\"/>\n",
       "<circle cx=\"38\" cy=\"57\" r=\"1.0050122668636399\" style=\"fill:olive;stroke:black;stroke-width:1.0\"/>\n",
       "<circle cx=\"38\" cy=\"20\" r=\"1.002004906745456\" style=\"fill:aqua;stroke:black;stroke-width:1.0\"/>\n",
       "<circle cx=\"438\" cy=\"320\" r=\"20.0\" style=\"fill:blue;stroke:black;stroke-width:1.0\"/>\n",
       "<circle cx=\"438\" cy=\"282\" r=\"14.653414936555254\" style=\"fill:red;stroke:black;stroke-width:1.0\"/>\n",
       "<circle cx=\"438\" cy=\"245\" r=\"8.201625029677896\" style=\"fill:green;stroke:black;stroke-width:1.0\"/>\n",
       "<circle cx=\"438\" cy=\"207\" r=\"4.977233756298309\" style=\"fill:orange;stroke:black;stroke-width:1.0\"/>\n",
       "<circle cx=\"438\" cy=\"170\" r=\"4.463977629461577\" style=\"fill:purple;stroke:black;stroke-width:1.0\"/>\n",
       "<circle cx=\"438\" cy=\"132\" r=\"4.013876065106709\" style=\"fill:yellow;stroke:black;stroke-width:1.0\"/>\n",
       "<circle cx=\"438\" cy=\"95\" r=\"2.820455324874034\" style=\"fill:fuchsia;stroke:black;stroke-width:1.0\"/>\n",
       "<circle cx=\"438\" cy=\"57\" r=\"2.3442899728282374\" style=\"fill:olive;stroke:black;stroke-width:1.0\"/>\n",
       "<circle cx=\"438\" cy=\"20\" r=\"1.7954467512596617\" style=\"fill:aqua;stroke:black;stroke-width:1.0\"/>\n",
       "<text text-anchor=\"end\" x=\"33\" y=\"320\" font-size=\"12\">103</text><text text-anchor=\"end\" x=\"33\" y=\"282\" font-size=\"12\">76</text><text text-anchor=\"end\" x=\"33\" y=\"245\" font-size=\"12\">328</text><text text-anchor=\"end\" x=\"33\" y=\"207\" font-size=\"12\">13</text><text text-anchor=\"end\" x=\"33\" y=\"170\" font-size=\"12\">12</text><text text-anchor=\"end\" x=\"33\" y=\"132\" font-size=\"12\">5</text><text text-anchor=\"end\" x=\"33\" y=\"95\" font-size=\"12\">6</text><text text-anchor=\"end\" x=\"33\" y=\"57\" font-size=\"12\">10</text><text text-anchor=\"end\" x=\"33\" y=\"20\" font-size=\"12\">4</text><text text-anchor=\"start\" x=\"461\" y=\"320\" font-size=\"12\">37907</text><text text-anchor=\"start\" x=\"455\" y=\"282\" font-size=\"12\">27240</text><text text-anchor=\"start\" x=\"449\" y=\"245\" font-size=\"12\">14368</text><text text-anchor=\"start\" x=\"445\" y=\"207\" font-size=\"12\">7935</text><text text-anchor=\"start\" x=\"445\" y=\"170\" font-size=\"12\">6911</text><text text-anchor=\"start\" x=\"445\" y=\"132\" font-size=\"12\">6013</text><text text-anchor=\"start\" x=\"443\" y=\"95\" font-size=\"12\">3632</text><text text-anchor=\"start\" x=\"443\" y=\"57\" font-size=\"12\">2682</text><text text-anchor=\"start\" x=\"442\" y=\"20\" font-size=\"12\">1587</text></svg>"
      ],
      "text/plain": [
       "<IPython.core.display.SVG object>"
      ]
     },
     "execution_count": 11,
     "metadata": {},
     "output_type": "execute_result"
    }
   ],
   "source": [
    "# aggregate graph\n",
    "biadjacency_aggregate = leiden.aggregate_\n",
    "labels_unique_row, counts_row = np.unique(labels_row, return_counts=True)\n",
    "labels_unique_col, counts_col = np.unique(labels_col, return_counts=True)\n",
    "image = visualize_bigraph(biadjacency_aggregate, counts_row, counts_col, labels_unique_row, labels_unique_col,\n",
    "                    display_node_weight=True, node_weights_row=counts_row, node_weights_col=counts_col)\n",
    "SVG(image)"
   ]
  },
  {
   "cell_type": "code",
   "execution_count": 12,
   "metadata": {},
   "outputs": [
    {
     "data": {
      "text/plain": [
       "9"
      ]
     },
     "execution_count": 12,
     "metadata": {},
     "output_type": "execute_result"
    }
   ],
   "source": [
    "len(set(labels_col)) # number of communities"
   ]
  },
  {
   "cell_type": "code",
   "execution_count": 13,
   "metadata": {},
   "outputs": [
    {
     "data": {
      "text/plain": [
       "108275"
      ]
     },
     "execution_count": 13,
     "metadata": {},
     "output_type": "execute_result"
    }
   ],
   "source": [
    "len(labels_col) # total number of movies"
   ]
  },
  {
   "cell_type": "code",
   "execution_count": 14,
   "metadata": {},
   "outputs": [
    {
     "name": "stdout",
     "output_type": "stream",
     "text": [
      "557\n"
     ]
    }
   ],
   "source": [
    "print(len(labels_row)) # total number of users"
   ]
  },
  {
   "cell_type": "code",
   "execution_count": 15,
   "metadata": {},
   "outputs": [
    {
     "name": "stdout",
     "output_type": "stream",
     "text": [
      "Execution time: 46.262744665145874 seconds\n",
      "community: 0, size: 15542\n",
      "community: 1, size: 26439\n",
      "community: 2, size: 39173\n",
      "community: 3, size: 2706\n",
      "community: 7, size: 6483\n",
      "community: 5, size: 3484\n",
      "community: 6, size: 9662\n",
      "community: 8, size: 1861\n",
      "community: 4, size: 3482\n"
     ]
    }
   ],
   "source": [
    "\n",
    "import networkx as nx\n",
    "import community\n",
    "import csv\n",
    "\n",
    "# Load and parse the dataset\n",
    "dataset_path = \"clean_letterboxd.csv\"  # this is the path to your dataset file\n",
    "user_movie_ratings = []\n",
    "\n",
    "with open(dataset_path, newline='', encoding='utf-8') as csvfile:\n",
    "    reader = csv.DictReader(csvfile)\n",
    "    for row in reader:\n",
    "        user_movie_ratings.append((int(row['user']), row['title']))\n",
    "\n",
    "# Create the bipartite graph\n",
    "mygraph = nx.Graph()\n",
    "user_nodes = set()\n",
    "movie_nodes = set()\n",
    "\n",
    "# Add edges between users and movies\n",
    "for user, movie in user_movie_ratings:\n",
    "    mygraph.add_edge(user, movie)\n",
    "    user_nodes.add(user)\n",
    "    movie_nodes.add(movie)\n",
    "\n",
    "# Perform community detection using unipartite Louvain method\n",
    "start_time = time.time()\n",
    "louvain_communities = community.best_partition(mygraph)\n",
    "\n",
    "end_time = time.time()\n",
    "ex_time = end_time - start_time\n",
    "print(\"Execution time:\", ex_time, \"seconds\")\n",
    "\n",
    "# Reverse the dictionary to get communities as keys\n",
    "louvain_communities_reversed = {}\n",
    "for node, com in louvain_communities.items():\n",
    "    if com not in louvain_communities_reversed:\n",
    "        louvain_communities_reversed[com] = [node]\n",
    "    else:\n",
    "        louvain_communities_reversed[com].append(node)\n",
    "\n",
    "for community, nodes in louvain_communities_reversed.items():\n",
    "    print(f\"community: {community}, size: {len(nodes)}\")"
   ]
  },
  {
   "cell_type": "code",
   "execution_count": 16,
   "metadata": {},
   "outputs": [
    {
     "name": "stdout",
     "output_type": "stream",
     "text": [
      "modularity value: 0.23949558235154467\n"
     ]
    }
   ],
   "source": [
    "community_list = [[] for _ in range(max(louvain_communities.values()) + 1)]\n",
    "for node, com in louvain_communities.items():\n",
    "    community_list[com].append(node)\n",
    "\n",
    "modularity = nx.community.modularity(mygraph, community_list)\n",
    "print(f\"modularity value: {modularity}\")"
   ]
  }
 ],
 "metadata": {
  "kernelspec": {
   "display_name": "Python 3",
   "language": "python",
   "name": "python3"
  },
  "language_info": {
   "codemirror_mode": {
    "name": "ipython",
    "version": 3
   },
   "file_extension": ".py",
   "mimetype": "text/x-python",
   "name": "python",
   "nbconvert_exporter": "python",
   "pygments_lexer": "ipython3",
   "version": "3.8.5"
  }
 },
 "nbformat": 4,
 "nbformat_minor": 4
}
